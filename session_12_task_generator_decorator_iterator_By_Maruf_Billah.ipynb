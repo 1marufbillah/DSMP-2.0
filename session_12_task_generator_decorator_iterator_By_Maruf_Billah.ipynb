{
  "nbformat": 4,
  "nbformat_minor": 0,
  "metadata": {
    "colab": {
      "provenance": []
    },
    "kernelspec": {
      "name": "python3",
      "display_name": "Python 3"
    },
    "language_info": {
      "name": "python"
    }
  },
  "cells": [
    {
      "cell_type": "markdown",
      "source": [
        "## Namespace and Scope"
      ],
      "metadata": {
        "id": "hM8V4LxHKV6x"
      }
    },
    {
      "cell_type": "markdown",
      "source": [
        "###`Q1:` Write `Person` Class as given below and then display it's namespace.\n",
        "\n"
      ],
      "metadata": {
        "id": "Kl3s2TonKYgY"
      }
    },
    {
      "cell_type": "markdown",
      "source": [
        "```\n",
        "Class Name - Person\n",
        "\n",
        "Attributes:\n",
        "name - public\n",
        "state - public\n",
        "city - private\n",
        "age - private\n",
        "\n",
        "Methods:\n",
        "address - public\n",
        "It give address of the person as \"<name>, <city>, <state>\"\n",
        "```"
      ],
      "metadata": {
        "id": "grudG97hL83C"
      }
    },
    {
      "cell_type": "code",
      "source": [
        "class Person:\n",
        "    def __init__(self, name, state, city, age):\n",
        "        self.name = name\n",
        "        self.state = state\n",
        "        self.__city = city\n",
        "        self.__age = age\n",
        "\n",
        "    def address(self):\n",
        "        return f\"{self.name}, {self.__city}, {self.state}\"\n",
        "\n",
        "object = Person(\"Maruf\", \"Bangladesh\", \"Dhaka\", 25)\n",
        "print(object.address())"
      ],
      "metadata": {
        "id": "BRq-I4jmKX0U",
        "colab": {
          "base_uri": "https://localhost:8080/"
        },
        "outputId": "4ceb9c92-e007-4eb4-81c6-6c9c8d54ece0"
      },
      "execution_count": null,
      "outputs": [
        {
          "output_type": "stream",
          "name": "stdout",
          "text": [
            "Maruf, Dhaka, Bangladesh\n"
          ]
        }
      ]
    },
    {
      "cell_type": "markdown",
      "source": [
        "###`Q2:` Write a program to show namespace of object/instance of above(Person) class."
      ],
      "metadata": {
        "id": "NLtOPOXDL_zB"
      }
    },
    {
      "cell_type": "code",
      "source": [
        "class Person:\n",
        "    def __init__(self, name, state, city, age):\n",
        "        self.name = name\n",
        "        self.state = state\n",
        "        self.__city = city\n",
        "        self.__age = age\n",
        "\n",
        "    def address(self):\n",
        "        return f\"{self.name}, {self.__city}, {self.state}\"\n",
        "\n",
        "person_instance = Person(\"Maruf\", \"Bangladesh\", \"Dhaka\", 25)\n",
        "\n",
        "print(person_instance.address())\n",
        "\n",
        "print(f\"Namespace of person_instance: {person_instance.__class__.__module__}\")\n"
      ],
      "metadata": {
        "id": "w3fj9tf0MJ3Z",
        "colab": {
          "base_uri": "https://localhost:8080/"
        },
        "outputId": "ae49f301-340d-4227-863f-9449c2de8473"
      },
      "execution_count": null,
      "outputs": [
        {
          "output_type": "stream",
          "name": "stdout",
          "text": [
            "Maruf, Dhaka, Bangladesh\n",
            "Namespace of person_instance: __main__\n"
          ]
        }
      ]
    },
    {
      "cell_type": "markdown",
      "source": [
        "###`Q3:` Write a recursive program to to calculate `gcd` and print no. of function calls taken to find the solution.\n",
        "```\n",
        "gcd(5,10) -> result in 5 as gcd and function call 4\n",
        "```"
      ],
      "metadata": {
        "id": "rRnCZmlUY8sn"
      }
    },
    {
      "cell_type": "code",
      "source": [
        "def gcd(a, b, calls=0):\n",
        "    # Base case: If b is 0, return a\n",
        "    if b == 0:\n",
        "        return a, calls\n",
        "\n",
        "    # Recursive case: Calculate GCD using Euclidean algorithm\n",
        "    calls += 1\n",
        "    return gcd(b, a % b, calls)\n",
        "\n",
        "# Example usage\n",
        "num1 = 5\n",
        "num2 = 10\n",
        "result, num_calls = gcd(num1, num2)\n",
        "\n",
        "print(f\"GCD of {num1} and {num2} is {result}\")\n",
        "print(f\"Number of function calls: {num_calls}\")"
      ],
      "metadata": {
        "id": "jYiVzxhUZRln",
        "colab": {
          "base_uri": "https://localhost:8080/"
        },
        "outputId": "39d22acd-2fd1-4811-ad20-c40b783fb521"
      },
      "execution_count": null,
      "outputs": [
        {
          "output_type": "stream",
          "name": "stdout",
          "text": [
            "GCD of 5 and 10 is 5\n",
            "Number of function calls: 2\n"
          ]
        }
      ]
    },
    {
      "cell_type": "markdown",
      "source": [
        "## Itterator And Generator"
      ],
      "metadata": {
        "id": "FbDepR9QNGnh"
      }
    },
    {
      "cell_type": "markdown",
      "source": [
        "###`Q4:` Create MyEnumerate class,\n",
        "Create your own `MyEnumerate` class such that someone can use it instead of enumerate. It will need to return a `tuple` with each iteration, with the first element in the tuple being the `index` (starting with 0) and the second element being the `current element` from the underlying data structure. Trying to use `MyEnumerate` with a noniterable argument will result in an error.\n",
        "\n",
        "```\n",
        "for index, letter in MyEnumerate('abc'):\n",
        "    print(f'{index} : {letter}')\n",
        "```\n",
        "\n",
        "Output:\n",
        "```\n",
        "0 : a\n",
        "1 : b\n",
        "2 : c\n",
        "```"
      ],
      "metadata": {
        "id": "Nj5WaR_4NJTu"
      }
    },
    {
      "cell_type": "code",
      "source": [
        "class MyEnumerate:\n",
        "    def __init__(self, iterable):\n",
        "        if not hasattr(iterable, '__iter__'):\n",
        "            raise TypeError(f'{type(iterable).__name__} object is not iterable')\n",
        "        self.iterable = iterable\n",
        "        self.index = 0\n",
        "\n",
        "    def __iter__(self):\n",
        "        return self\n",
        "\n",
        "    def __next__(self):\n",
        "        if self.index < len(self.iterable):\n",
        "            result = (self.index, self.iterable[self.index])\n",
        "            self.index += 1\n",
        "            return result\n",
        "        else:\n",
        "            raise StopIteration\n",
        "\n",
        "for index, letter in MyEnumerate('abc'):\n",
        "    print(f'{index} : {letter}')\n"
      ],
      "metadata": {
        "id": "6zjcm2gxNbfJ",
        "colab": {
          "base_uri": "https://localhost:8080/"
        },
        "outputId": "47ea793c-e99f-47c6-fb8a-b736f7e8c52a"
      },
      "execution_count": null,
      "outputs": [
        {
          "output_type": "stream",
          "name": "stdout",
          "text": [
            "0 : a\n",
            "1 : b\n",
            "2 : c\n"
          ]
        }
      ]
    },
    {
      "cell_type": "markdown",
      "source": [
        "###`Q5:` Iterate in circle\n",
        "Define a class, `Circle`, that takes two arguments when defined: a sequence and a number. The idea is that the object will then return elements the defined number of times. If the number is greater than the number of elements, then the sequence  repeats as necessary. You can define an another class used as a helper (like I call `CircleIterator`).\n",
        "\n",
        "```\n",
        "c = Circle('abc', 5)\n",
        "d = Circle('abc', 7)\n",
        "print(list(c))\n",
        "print(list(d))\n",
        "```\n",
        "\n",
        "Output\n",
        "```\n",
        "[a, b, c, a, b]\n",
        "[a, b, c, a, b, c, a]\n",
        "```"
      ],
      "metadata": {
        "id": "U2Ai7rVDOLBw"
      }
    },
    {
      "cell_type": "code",
      "source": [
        "class CircleIterator:\n",
        "    def __init__(self, sequence, count):\n",
        "        self.sequence = sequence\n",
        "        self.count = count\n",
        "        self.index = 0\n",
        "        self.iterations = 0\n",
        "\n",
        "    def __iter__(self):\n",
        "        return self\n",
        "\n",
        "    def __next__(self):\n",
        "        if self.iterations >= self.count:\n",
        "            raise StopIteration\n",
        "\n",
        "        # Get the current element and move the index forward\n",
        "        element = self.sequence[self.index]\n",
        "        self.index = (self.index + 1) % len(self.sequence)\n",
        "        self.iterations += 1\n",
        "        return element\n",
        "\n",
        "\n",
        "class Circle:\n",
        "    def __init__(self, sequence, count):\n",
        "        self.sequence = sequence\n",
        "        self.count = count\n",
        "\n",
        "    def __iter__(self):\n",
        "        return CircleIterator(self.sequence, self.count)\n",
        "\n",
        "\n",
        "c = Circle('abc', 5)\n",
        "d = Circle('abc', 7)\n",
        "\n",
        "print(list(c))\n",
        "print(list(d))\n"
      ],
      "metadata": {
        "id": "iwcTy1HyO5hs",
        "colab": {
          "base_uri": "https://localhost:8080/"
        },
        "outputId": "79668956-5821-4e14-845b-b3b508e4238f"
      },
      "execution_count": null,
      "outputs": [
        {
          "output_type": "stream",
          "name": "stdout",
          "text": [
            "['a', 'b', 'c', 'a', 'b']\n",
            "['a', 'b', 'c', 'a', 'b', 'c', 'a']\n"
          ]
        }
      ]
    },
    {
      "cell_type": "markdown",
      "source": [
        "###`Q6:` Generator time elapsed\n",
        "Write a generator function whose argument must be iterable. With each iteration, the generator will return a two-element tuple. The first element in the tuple will be an integer indicating how many seconds have passed since the previous iteration. The tuple’s second element will be the next item from the passed argument.\n",
        "\n",
        "Note that the timing should be relative to the previous iteration, not when the\n",
        "generator was first created or invoked. Thus the timing number in the first iteration\n",
        "will be 0\n",
        "\n",
        "```\n",
        "for t in elapsed_since('abcd'):\n",
        "    print(t)\n",
        "    time.sleep(2)\n",
        "```\n",
        "\n",
        "Output:\n",
        "```\n",
        "(0.0, 'a')\n",
        "(2.005651817999933, 'b')\n",
        "(2.0023095009998997, 'c')\n",
        "(2.001949742000079, 'd')\n",
        "```\n",
        "Note: Your output may differ because of diffrent system has different processing configuration."
      ],
      "metadata": {
        "id": "17KyhciKQnAE"
      }
    },
    {
      "cell_type": "code",
      "source": [
        "import time\n",
        "\n",
        "def elapsed_since(iterable):\n",
        "    previous_time = time.time()\n",
        "    for item in iterable:\n",
        "        current_time = time.time()\n",
        "        elapsed = current_time - previous_time\n",
        "        previous_time = current_time\n",
        "        yield (int(elapsed), item)\n",
        "\n",
        "for t in elapsed_since('abcd'):\n",
        "    print(t)\n",
        "    time.sleep(2)"
      ],
      "metadata": {
        "id": "UkH1tj9zQ-gc",
        "colab": {
          "base_uri": "https://localhost:8080/"
        },
        "outputId": "25ca22d8-549d-4679-c055-7e6e907733b4"
      },
      "execution_count": 3,
      "outputs": [
        {
          "output_type": "stream",
          "name": "stdout",
          "text": [
            "(0, 'a')\n",
            "(2, 'b')\n",
            "(2, 'c')\n",
            "(2, 'd')\n"
          ]
        }
      ]
    },
    {
      "cell_type": "code",
      "source": [],
      "metadata": {
        "colab": {
          "base_uri": "https://localhost:8080/"
        },
        "id": "i0X6JreBRlYG",
        "outputId": "f7bae901-6522-4cb7-bea2-5587cebd478a"
      },
      "execution_count": null,
      "outputs": [
        {
          "output_type": "stream",
          "name": "stdout",
          "text": [
            "(0.0, 'a')\n",
            "(2.005651817999933, 'b')\n",
            "(2.0023095009998997, 'c')\n",
            "(2.001949742000079, 'd')\n"
          ]
        }
      ]
    },
    {
      "cell_type": "markdown",
      "source": [
        "## Decorators"
      ],
      "metadata": {
        "id": "fXr3OJxJSC1j"
      }
    },
    {
      "cell_type": "markdown",
      "source": [
        "###`Q7:` Write a Python program to make a chain of function decorators (bold, italic, underline etc.) on a given function which prints \"hello world\"\n",
        "\n",
        "```\n",
        "def hello():\n",
        "    return \"hello world\"\n",
        "```\n",
        "\n",
        "```\n",
        "bold - wrap string with <b> tag. <b>Str</b>\n",
        "italic - wrap string with <i> tag. <i>Str</i>\n",
        "underline- wrap string with <u> tag. <u>Str</u>\n",
        "```"
      ],
      "metadata": {
        "id": "xSjvwAt-SFhi"
      }
    },
    {
      "cell_type": "code",
      "source": [
        "def bold(func):\n",
        "    def wrapper():\n",
        "        return f\"<b>{func()}</b>\"\n",
        "    return wrapper\n",
        "\n",
        "def italic(func):\n",
        "    def wrapper():\n",
        "        return f\"<i>{func()}</i>\"\n",
        "    return wrapper\n",
        "\n",
        "def underline(func):\n",
        "    def wrapper():\n",
        "        return f\"<u>{func()}</u>\"\n",
        "    return wrapper\n",
        "\n",
        "@bold\n",
        "@italic\n",
        "@underline\n",
        "def hello():\n",
        "    return \"hello world\"\n",
        "\n",
        "print(hello())"
      ],
      "metadata": {
        "id": "prVeZGYlSorr",
        "colab": {
          "base_uri": "https://localhost:8080/"
        },
        "outputId": "8b1da595-cd14-4705-f363-b2ac0c73d496"
      },
      "execution_count": 4,
      "outputs": [
        {
          "output_type": "stream",
          "name": "stdout",
          "text": [
            "<b><i><u>hello world</u></i></b>\n"
          ]
        }
      ]
    },
    {
      "cell_type": "code",
      "source": [],
      "metadata": {
        "colab": {
          "base_uri": "https://localhost:8080/"
        },
        "id": "50wGH6zmSEv4",
        "outputId": "263dd662-7c5a-4f72-b394-71e04486d662"
      },
      "execution_count": null,
      "outputs": [
        {
          "output_type": "stream",
          "name": "stdout",
          "text": [
            "<b><i><u>hello world</u></i></b>\n"
          ]
        }
      ]
    },
    {
      "cell_type": "markdown",
      "source": [
        "###`Q8:` Write a decorator called `printer` which causes any decorated function to print their return values. If the return value of a given function is `None`, printer should do nothing.\n",
        "\n"
      ],
      "metadata": {
        "id": "miKBwPy4TQWa"
      }
    },
    {
      "cell_type": "code",
      "source": [
        "def printer(func):\n",
        "    def wrapper(*args, **kwargs):\n",
        "        result = func(*args, **kwargs)\n",
        "        if result is not None:\n",
        "            print(result)\n",
        "        return result\n",
        "    return wrapper\n",
        "\n",
        "# Example usage\n",
        "@printer\n",
        "def greet(name):\n",
        "    return f\"Hello, {name}!\"\n",
        "\n",
        "@printer\n",
        "def say_nothing():\n",
        "    pass\n",
        "\n",
        "greet(\"Maruf\")\n",
        "say_nothing()"
      ],
      "metadata": {
        "id": "05s0poRoT9II",
        "colab": {
          "base_uri": "https://localhost:8080/"
        },
        "outputId": "86f22f65-11cb-402f-de6f-294d9d8bc373"
      },
      "execution_count": 5,
      "outputs": [
        {
          "output_type": "stream",
          "name": "stdout",
          "text": [
            "Hello, Maruf!\n"
          ]
        }
      ]
    },
    {
      "cell_type": "code",
      "source": [],
      "metadata": {
        "colab": {
          "base_uri": "https://localhost:8080/"
        },
        "id": "U86ZE73WT-ux",
        "outputId": "c9ffa235-861c-4e07-fa29-c05d4346a10f"
      },
      "execution_count": null,
      "outputs": [
        {
          "output_type": "stream",
          "name": "stdout",
          "text": [
            "abc\n",
            "pqr\n"
          ]
        }
      ]
    },
    {
      "cell_type": "markdown",
      "source": [
        "###`Q9:` Make a decorator which calls a given function twice. You can assume the functions don't return anything important, but they may take arguments.\n",
        "```\n",
        "#Lets say given function\n",
        "def hello(string):\n",
        "    print(string)\n",
        "\n",
        "#on calling after specified decorator is inplaced\n",
        "hello('hello')\n",
        "```\n",
        "\n",
        "Output:\n",
        "```\n",
        "hello\n",
        "hello\n",
        "```"
      ],
      "metadata": {
        "id": "DWJLjPOnURua"
      }
    },
    {
      "cell_type": "code",
      "source": [
        "def call_twice(func):\n",
        "    def wrapper(*args, **kwargs):\n",
        "        func(*args, **kwargs)  # Call the function once\n",
        "        func(*args, **kwargs)  # Call the function again\n",
        "    return wrapper\n",
        "\n",
        "@call_twice\n",
        "def hello(string):\n",
        "    print(string)\n",
        "\n",
        "# Testing the decorator\n",
        "hello('hello')"
      ],
      "metadata": {
        "id": "e38y0cz7UTdD",
        "colab": {
          "base_uri": "https://localhost:8080/"
        },
        "outputId": "77da0b04-3cba-4366-9bea-fd0afe0f13cc"
      },
      "execution_count": 7,
      "outputs": [
        {
          "output_type": "stream",
          "name": "stdout",
          "text": [
            "hello\n",
            "hello\n"
          ]
        }
      ]
    },
    {
      "cell_type": "code",
      "source": [],
      "metadata": {
        "colab": {
          "base_uri": "https://localhost:8080/"
        },
        "id": "6uLp_cHcUVXR",
        "outputId": "ec5be948-1f60-49a6-a691-3aaba8b54c99"
      },
      "execution_count": null,
      "outputs": [
        {
          "output_type": "stream",
          "name": "stdout",
          "text": [
            "hello\n",
            "hello\n"
          ]
        }
      ]
    },
    {
      "cell_type": "code",
      "source": [],
      "metadata": {
        "id": "wgkWUsJhUnQx"
      },
      "execution_count": null,
      "outputs": []
    },
    {
      "cell_type": "markdown",
      "source": [
        "### `Q10:` Write a decorator which doubles the return value of any function. And test that decoratos is working correctly or not using `asert`.\n",
        "\n",
        "```\n",
        "add(2,3) -> result in 10. Without decorator it should be 5.\n",
        "```"
      ],
      "metadata": {
        "id": "8btcQI9pWi2w"
      }
    },
    {
      "cell_type": "code",
      "source": [
        "def double_return(func):\n",
        "    def wrapper(*args, **kwargs):\n",
        "        result = func(*args, **kwargs)  # Call the original function\n",
        "        return result * 2  # Double the result\n",
        "    return wrapper\n",
        "\n",
        "@double_return\n",
        "def add(a, b):\n",
        "    return a + b\n",
        "\n",
        "# Testing the decorator\n",
        "result_with_decorator = add(2, 3)  # This should return 10\n",
        "assert result_with_decorator == 10, \"Test failed: The return value should be doubled to 10\"\n",
        "\n",
        "# Without decorator for comparison\n",
        "def add_no_decorator(a, b):\n",
        "    return a + b\n",
        "\n",
        "result_without_decorator = add_no_decorator(2, 3)  # This should return 5\n",
        "assert result_without_decorator == 5, \"Test failed: The return value should be 5\"\n",
        "\n",
        "print(\"All tests passed.\")"
      ],
      "metadata": {
        "id": "nG6S_zQ9XFb3",
        "colab": {
          "base_uri": "https://localhost:8080/"
        },
        "outputId": "ec98d501-962b-4bdd-ce0b-ba94e9562d79"
      },
      "execution_count": 8,
      "outputs": [
        {
          "output_type": "stream",
          "name": "stdout",
          "text": [
            "All tests passed.\n"
          ]
        }
      ]
    },
    {
      "cell_type": "code",
      "source": [],
      "metadata": {
        "id": "s16-A_RpXp2K"
      },
      "execution_count": null,
      "outputs": []
    }
  ]
}