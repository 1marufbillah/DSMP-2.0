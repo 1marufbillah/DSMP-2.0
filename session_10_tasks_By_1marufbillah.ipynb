{
  "nbformat": 4,
  "nbformat_minor": 0,
  "metadata": {
    "colab": {
      "provenance": []
    },
    "kernelspec": {
      "name": "python3",
      "display_name": "Python 3"
    },
    "language_info": {
      "name": "python"
    }
  },
  "cells": [
    {
      "cell_type": "markdown",
      "source": [
        "### `Q-1:` Write a function `get_final_line(filename)`, which takes filename as input and return final line of the file.\n",
        "\n",
        "Note: You can choose any file of your choice."
      ],
      "metadata": {
        "id": "MbeMdx5d5qRj"
      }
    },
    {
      "cell_type": "code",
      "source": [
        "def get_final_line(filename):\n",
        "    with open(filename, 'r') as file:\n",
        "        lines = file.readlines()\n",
        "        if lines:\n",
        "            return lines[-1].strip()\n",
        "        return None\n",
        "\n",
        "file_path = \"sample.txt\"\n",
        "final_line = get_final_line(file_path)\n",
        "final_line"
      ],
      "metadata": {
        "id": "rjx9XRTq5uzD",
        "colab": {
          "base_uri": "https://localhost:8080/",
          "height": 35
        },
        "outputId": "52f61399-5ca4-42de-fa94-822c85d0c58f"
      },
      "execution_count": null,
      "outputs": [
        {
          "output_type": "execute_result",
          "data": {
            "text/plain": [
              "'engineering to analyze large amounts of data.'"
            ],
            "application/vnd.google.colaboratory.intrinsic+json": {
              "type": "string"
            }
          },
          "metadata": {},
          "execution_count": 2
        }
      ]
    },
    {
      "cell_type": "markdown",
      "source": [
        "###`Q-2:` Read through a text file, line by line. Use a dict to keep track of how many times each vowel (a, e, i, o, and u) appears in the file. Print the resulting tabulation -- dictionary."
      ],
      "metadata": {
        "id": "B87Z6-yQ5wVO"
      }
    },
    {
      "cell_type": "code",
      "source": [
        "def count_vowels_in_file(filename):\n",
        "    vowel_counts = {'a': 0, 'e': 0, 'i': 0, 'o': 0, 'u': 0}\n",
        "    vowels = set(vowel_counts.keys())\n",
        "\n",
        "    with open(filename, 'r') as file:\n",
        "        for line in file:\n",
        "            for char in line.lower():\n",
        "                if char in vowels:\n",
        "                    vowel_counts[char] += 1\n",
        "\n",
        "    return vowel_counts\n",
        "\n",
        "file_path = \"sample.txt\"\n",
        "vowel_counts = count_vowels_in_file(file_path)\n",
        "vowel_counts"
      ],
      "metadata": {
        "id": "XeXnOL7X50Sa",
        "colab": {
          "base_uri": "https://localhost:8080/"
        },
        "outputId": "4c6ebbe6-d17f-4862-c61e-2698d091f15c"
      },
      "execution_count": null,
      "outputs": [
        {
          "output_type": "execute_result",
          "data": {
            "text/plain": [
              "{'a': 29, 'e': 33, 'i': 30, 'o': 14, 'u': 6}"
            ]
          },
          "metadata": {},
          "execution_count": 3
        }
      ]
    },
    {
      "cell_type": "markdown",
      "source": [
        "###`Q-3:` Create a text file (using an editor, not necessarily Python) containing two tab separated columns, with each column containing a number. Then use Python to read through the file you’ve created. For each line, multiply each first number by the second and include it in the file in third column. In last add a line Total, by summing the value of third column\n",
        "\n"
      ],
      "metadata": {
        "id": "lRqQ2Y295-Gg"
      }
    },
    {
      "cell_type": "markdown",
      "source": [
        "Input File example: That you need to create\n",
        "```\n",
        "1   2\n",
        "3   4\n",
        "5   6\n",
        "7   8\n",
        "9   10\n",
        "\n",
        "```\n",
        "\n",
        "Output File Example:\n",
        "```\n",
        "1   2   2\n",
        "3   4   12\n",
        "5   6   30\n",
        "7   8   56\n",
        "9   10  90\n",
        "Total   190\n",
        "```\n"
      ],
      "metadata": {
        "id": "GtFfahZc6Bvg"
      }
    },
    {
      "cell_type": "code",
      "source": [
        "def process_file_with_multiplication(filename):\n",
        "    total_sum = 0\n",
        "    output_lines = []\n",
        "\n",
        "    with open(filename, 'r') as file:\n",
        "        for line in file:\n",
        "            # Strip the line and split by whitespace, then rejoin by a single tab to handle any extra spaces\n",
        "            clean_line = \"\\t\".join(line.strip().split())\n",
        "            numbers = clean_line.split('\\t')\n",
        "\n",
        "            # Ensure that there are exactly two numbers in the line\n",
        "            if len(numbers) != 2:\n",
        "                print(f\"Skipping invalid line: {line.strip()}\")\n",
        "                continue\n",
        "\n",
        "            try:\n",
        "                # Convert the numbers to integers\n",
        "                num1 = int(numbers[0])\n",
        "                num2 = int(numbers[1])\n",
        "            except ValueError:\n",
        "                print(f\"Skipping invalid line (non-numeric values): {line.strip()}\")\n",
        "                continue\n",
        "\n",
        "            # Multiply the numbers\n",
        "            product = num1 * num2\n",
        "\n",
        "            # Add the product to the total sum\n",
        "            total_sum += product\n",
        "\n",
        "            # Create a new line with the original numbers and the product\n",
        "            new_line = f\"{num1}\\t{num2}\\t{product}\"\n",
        "            output_lines.append(new_line)\n",
        "\n",
        "    # Append the total line at the end\n",
        "    output_lines.append(f\"Total\\t\\t{total_sum}\")\n",
        "\n",
        "    # Write the new lines to the output file\n",
        "    output_filename = 'output_' + filename\n",
        "    with open(output_filename, 'w') as output_file:\n",
        "        for line in output_lines:\n",
        "            output_file.write(line + '\\n')\n",
        "\n",
        "    print(f\"Processed file saved as {output_filename}\")\n",
        "\n",
        "# Specify the filename of the input file\n",
        "input_filename = 'numbers.txt'\n",
        "process_file_with_multiplication(input_filename)"
      ],
      "metadata": {
        "id": "GiKvqHnr5-j2",
        "colab": {
          "base_uri": "https://localhost:8080/"
        },
        "outputId": "985fe0a0-6ca0-42bd-a855-dc0ffda1c30b"
      },
      "execution_count": null,
      "outputs": [
        {
          "output_type": "stream",
          "name": "stdout",
          "text": [
            "Processed file saved as output_numbers.txt\n"
          ]
        }
      ]
    },
    {
      "cell_type": "markdown",
      "source": [
        "###`Q-4:` Create line wise reverse of a file\n",
        "Write a function which takes two arguments: the names of the input file (to be read from) and the output file (which will be created)."
      ],
      "metadata": {
        "id": "DunQepHC6J9r"
      }
    },
    {
      "cell_type": "markdown",
      "source": [
        "For example, if a file looks like\n",
        " ```\n",
        "abc def\n",
        "ghi jkl\n",
        "```\n",
        "then the output file will be\n",
        "```\n",
        "fed cba\n",
        "lkj ihg\n",
        "```\n",
        "**Notice**: The newline remains at the end of the string, while the rest of the characters are all reversed."
      ],
      "metadata": {
        "id": "QxWEtFle6Nmu"
      }
    },
    {
      "cell_type": "code",
      "source": [
        "def reverse_lines_in_file(input_filename, output_filename):\n",
        "    try:\n",
        "        with open(input_filename, 'r') as infile, open(output_filename, 'w') as outfile:\n",
        "            for line in infile:\n",
        "                # Reverse the line excluding the newline character and then add it back\n",
        "                if line.endswith('\\n'):\n",
        "                    reversed_line = line[:-1][::-1] + '\\n'\n",
        "                else:\n",
        "                    reversed_line = line[::-1]\n",
        "\n",
        "                # Write the reversed line to the output file\n",
        "                outfile.write(reversed_line)\n",
        "        print(f\"Reversed lines have been written to {output_filename}\")\n",
        "    except FileNotFoundError:\n",
        "        print(f\"The file {input_filename} does not exist.\")\n",
        "    except IOError as e:\n",
        "        print(f\"An I/O error occurred: {e}\")\n",
        "\n",
        "# Example usage:\n",
        "input_file = 'input.txt'\n",
        "output_file = 'output.txt'\n",
        "reverse_lines_in_file(input_file, output_file)\n"
      ],
      "metadata": {
        "id": "aIJTJNAq6LD7",
        "colab": {
          "base_uri": "https://localhost:8080/"
        },
        "outputId": "42a1d575-23c6-4a5a-dbcb-0d7e2834dd2b"
      },
      "execution_count": null,
      "outputs": [
        {
          "output_type": "stream",
          "name": "stdout",
          "text": [
            "Reversed lines have been written to output.txt\n"
          ]
        }
      ]
    },
    {
      "cell_type": "markdown",
      "source": [
        "###`Q-5:` Create a Serialized dict of frequency of words in the file. And from given list of words, using serialized dict show word count.\n",
        "\n",
        "* List of word will be given\n",
        "\n"
      ],
      "metadata": {
        "id": "wqvx3sMY6bou"
      }
    },
    {
      "cell_type": "markdown",
      "source": [
        "Given String\n",
        "\n",
        "```\n",
        "strings = \"\"\"Alice was beginning to get very tired of sitting by her sister\n",
        "            on the bank, and of having nothing to do:  once or twice she had\n",
        "            peeped into the book her sister was reading, but it had no\n",
        "            pictures or conversations in it, `and what is the use of a book,'\n",
        "            thought Alice `without pictures or conversation?'\n",
        "\n",
        "            So she was considering in her own mind (as well as she could,\n",
        "            for the hot day made her feel very sleepy and stupid), whether\n",
        "            the pleasure of making a daisy-chain would be worth the trouble\n",
        "            of getting up and picking the daisies, when suddenly a White\n",
        "            Rabbit with pink eyes ran close by her.\n",
        "\n",
        "            There was nothing so VERY remarkable in that; nor did Alice\n",
        "            think it so VERY much out of the way to hear the Rabbit say to\n",
        "            itself, `Oh dear!  Oh dear!  I shall be late!'  (when she thought\n",
        "            it over afterwards, it occurred to her that she ought to have\n",
        "            wondered at this, but at the time it all seemed quite natural);\n",
        "            but when the Rabbit actually TOOK A WATCH OUT OF ITS WAISTCOAT-\n",
        "            POCKET, and looked at it, and then hurried on, Alice started to\n",
        "            her feet, for it flashed across her mind that she had never\n",
        "            before seen a rabbit with either a waistcoat-pocket, or a watch to\n",
        "            take out of it, and burning with curiosity, she ran across the\n",
        "            field after it, and fortunately was just in time to see it pop\n",
        "            down a large rabbit-hole under the hedge.\"\"\"\n",
        "\n",
        "word_list = ['alice', 'wonder', 'natural']\n",
        "```"
      ],
      "metadata": {
        "id": "uc5MSUWg6cZG"
      }
    },
    {
      "cell_type": "code",
      "source": [
        "import json\n",
        "import re\n",
        "\n",
        "def count_word_frequencies(file_path, output_file):\n",
        "    word_count = {}\n",
        "    try:\n",
        "        with open(file_path, 'r') as file:\n",
        "            for line in file:\n",
        "                # Remove punctuation and make all words lowercase\n",
        "                words = re.findall(r'\\b\\w+\\b', line.lower())\n",
        "                for word in words:\n",
        "                    if word in word_count:\n",
        "                        word_count[word] += 1\n",
        "                    else:\n",
        "                        word_count[word] = 1\n",
        "\n",
        "        # Serialize the word frequency dictionary to a JSON file\n",
        "        with open(output_file, 'w') as json_file:\n",
        "            json.dump(word_count, json_file)\n",
        "\n",
        "        print(f\"Word frequencies serialized to {output_file}\")\n",
        "    except FileNotFoundError:\n",
        "        print(f\"The file {file_path} does not exist.\")\n",
        "    except IOError as e:\n",
        "        print(f\"An I/O error occurred: {e}\")\n",
        "\n",
        "input_file = 'input.txt'\n",
        "serialized_file = 'word_frequencies.json'\n",
        "count_word_frequencies(input_file, serialized_file)\n"
      ],
      "metadata": {
        "colab": {
          "base_uri": "https://localhost:8080/"
        },
        "id": "8mGUbXE5g5WW",
        "outputId": "043a4a37-a3a1-4bbb-cfee-ff40b09f0a23"
      },
      "execution_count": null,
      "outputs": [
        {
          "output_type": "stream",
          "name": "stdout",
          "text": [
            "Word frequencies serialized to word_frequencies.json\n"
          ]
        }
      ]
    },
    {
      "cell_type": "markdown",
      "source": [
        "### **`Q-6:`** Given a string calculate length of the string using recursion.\n",
        "\n",
        "**Example 1:**\n",
        "\n",
        "Input:\n",
        "```bash\n",
        "\"abcd\"\n",
        "```\n",
        "\n",
        "Output:\n",
        "\n",
        "```bash\n",
        "4\n",
        "```\n",
        "\n",
        "**Example 2:**\n",
        "\n",
        "Input:\n",
        "```bash\n",
        "DataScience\n",
        "```\n",
        "\n",
        "Output:\n",
        "\n",
        "```bash\n",
        "11\n",
        "```\n"
      ],
      "metadata": {
        "id": "Und2HuFW6kAw"
      }
    },
    {
      "cell_type": "code",
      "source": [
        "def calculate_length_of_string_recursive(input_string):\n",
        "    if not input_string:\n",
        "        return 0\n",
        "\n",
        "    return 1 + calculate_length_of_string_recursive(input_string[1:])\n",
        "\n",
        "input_string = \"DataScience\"\n",
        "length = calculate_length_of_string_recursive(input_string)\n",
        "length"
      ],
      "metadata": {
        "id": "9HE7lB5W61gT",
        "colab": {
          "base_uri": "https://localhost:8080/"
        },
        "outputId": "6d090d84-8b68-412f-d916-ae2e819855fe"
      },
      "execution_count": null,
      "outputs": [
        {
          "output_type": "execute_result",
          "data": {
            "text/plain": [
              "11"
            ]
          },
          "metadata": {},
          "execution_count": 1
        }
      ]
    },
    {
      "cell_type": "markdown",
      "source": [
        "### **`Q-7:`** Write a function that accepts two numbers and returns their greatest common divisior. Without using any loop\n",
        "\n",
        "def gcd(int, int) => int\n",
        "\n",
        "```\n",
        "gcd(16,24) will give 8\n",
        "```"
      ],
      "metadata": {
        "id": "iUDvc-jl6759"
      }
    },
    {
      "cell_type": "code",
      "source": [
        "def gcd(a, b):\n",
        "    if b == 0:\n",
        "        return a\n",
        "    else:\n",
        "        return gcd(b, a % b)\n",
        "\n",
        "result = gcd(16, 24)\n",
        "result"
      ],
      "metadata": {
        "id": "uMQnojHR7O2S",
        "colab": {
          "base_uri": "https://localhost:8080/"
        },
        "outputId": "a6c419ea-5cf9-4616-c2d8-7a5d929a59a2"
      },
      "execution_count": null,
      "outputs": [
        {
          "output_type": "execute_result",
          "data": {
            "text/plain": [
              "8"
            ]
          },
          "metadata": {},
          "execution_count": 2
        }
      ]
    },
    {
      "cell_type": "markdown",
      "source": [
        " ### `Q-8:` String Edit Distance\n",
        "\n",
        " Use your recursive function to write a program that reads two strings from the\n",
        "user and displays the edit distance between them.\n",
        "\n",
        "*The edit distance between two strings is a measure of their similarity—the smaller the edit distance, the more similar the strings are with regard to the minimum number of insert, delete and substitute operations needed to transform one string into the other.*\n",
        "\n",
        "Consider the strings `kitten` and `sitting`. The first string can be transformed\n",
        "into the second string with the following operations:\n",
        "* Substitute the `k` with an `s`,\n",
        "* substitute the `e` with an `i`,\n",
        "* and insert a `g` at the end of the string.\n",
        "\n",
        "This is the smallest number of operations that can be performed to transform kitten into sitting. As a result, the edit distance is `3`.\n",
        "\n",
        "\n",
        "Write a recursive function that computes the edit distance between two strings.\n",
        "\n",
        "Use the following algorithm:\n",
        "\n",
        "```\n",
        "Let s and t be the strings\n",
        "    If the length of s is 0 then\n",
        "        Return the length of t\n",
        "    Else if the length of t is 0 then\n",
        "        Return the length of s\n",
        "    Else\n",
        "        Set cost to 0\n",
        "        If the last character in s does not equal the last character in t then\n",
        "            Set cost to 1\n",
        "        Set d1 equal to the edit distance between all characters except the last one in s, and all characters in t, plus 1\n",
        "        Set d2 equal to the edit distance between all characters in s, and all characters except the last one in t, plus 1\n",
        "\n",
        "        Set d3 equal to the edit distance between all characters except the last one in s, and all characters except the last one in t, plus cost\n",
        "        Return the minimum of d1, d2 and d3\n",
        "```\n",
        "\n",
        "\n",
        "\n"
      ],
      "metadata": {
        "id": "wFD35fva7Q_B"
      }
    },
    {
      "cell_type": "code",
      "source": [
        "def edit_distance(s, t):\n",
        "    # Base cases\n",
        "    if len(s) == 0:\n",
        "        return len(t)\n",
        "    elif len(t) == 0:\n",
        "        return len(s)\n",
        "\n",
        "    # Calculate the cost of substitution\n",
        "    cost = 0 if s[-1] == t[-1] else 1\n",
        "\n",
        "    # Recursively compute the distances for the three possible operations\n",
        "    d1 = edit_distance(s[:-1], t) + 1  # Deletion\n",
        "    d2 = edit_distance(s, t[:-1]) + 1  # Insertion\n",
        "    d3 = edit_distance(s[:-1], t[:-1]) + cost  # Substitution\n",
        "\n",
        "    # Return the minimum of the three computed distances\n",
        "    return min(d1, d2, d3)\n",
        "\n",
        "if __name__ == \"__main__\":\n",
        "    str1 = input(\"Enter the first string: \")\n",
        "    str2 = input(\"Enter the second string: \")\n",
        "\n",
        "    distance = edit_distance(str1, str2)\n",
        "    print(f\"The edit distance between '{str1}' and '{str2}' is: {distance}\")\n"
      ],
      "metadata": {
        "id": "zlNy_Q987QOX",
        "colab": {
          "base_uri": "https://localhost:8080/"
        },
        "outputId": "de251552-3d92-44e2-b4f4-52a5b248e525"
      },
      "execution_count": 1,
      "outputs": [
        {
          "output_type": "stream",
          "name": "stdout",
          "text": [
            "Enter the first string: kitten\n",
            "Enter the second string: sitting\n",
            "The edit distance between 'kitten' and 'sitting' is: 3\n"
          ]
        }
      ]
    },
    {
      "cell_type": "markdown",
      "source": [
        "###`Q-9:` Run-Length Encoding\n",
        "\n",
        "Run-length encoding is a simple data compression technique that can be effective when repeated values occur at adjacent positions within a list. Compression is achieved by replacing groups of repeated values with one copy of the value, followed by the number of times that the value should be repeated. For example, the list\n",
        "```\n",
        "[\"A\", \"A\", \"A\", \"A\", \"A\", \"A\", \"A\", \"A\", \"A\", \"A\", \"A\", \"A\", \"B\", \"B\", \"B\", \"B\", \"A\", \"A\", \"A\", \"A\", \"A\", \"A\", \"B\"]\n",
        "```\n",
        "would be compressed as `[\"A\", 12, \"B\", 4, \"A\", 6, \"B\", 1]`.\n",
        "\n",
        "Write a recursive function that implements the run-length compression technique\n",
        "described above. Your function will take a list or a string as its only parameter. It should return the run-length compressed list as its only result. Include a main program that reads a string from the user, compresses it, and displays the run-length encoded result."
      ],
      "metadata": {
        "id": "Hc9e-qES7iAK"
      }
    },
    {
      "cell_type": "code",
      "source": [
        "def run_length_encode(data):\n",
        "    def recursive_encode(data, index, current_char, count):\n",
        "        # Base case: if index reaches the end of the data, return the last encoded part\n",
        "        if index == len(data):\n",
        "            return [current_char, count] if current_char is not None else []\n",
        "\n",
        "        if current_char is None:  # First character\n",
        "            return recursive_encode(data, index + 1, data[index], 1)\n",
        "        elif data[index] == current_char:  # Same character, increase count\n",
        "            return recursive_encode(data, index + 1, current_char, count + 1)\n",
        "        else:  # Different character, store current_char and its count, then move on\n",
        "            return [current_char, count] + recursive_encode(data, index + 1, data[index], 1)\n",
        "\n",
        "    # Start the recursive process with the first character and count of 0\n",
        "    return recursive_encode(data, 0, None, 0)\n",
        "\n",
        "if __name__ == \"__main__\":\n",
        "    user_input = input(\"Enter a string to compress: \")\n",
        "    encoded_result = run_length_encode(list(user_input))\n",
        "    print(\"Run-Length Encoded result:\", encoded_result)\n"
      ],
      "metadata": {
        "id": "W2Wb_WzP7qM1",
        "colab": {
          "base_uri": "https://localhost:8080/"
        },
        "outputId": "39049f58-0b27-4bf8-ef4e-149f10dbb864"
      },
      "execution_count": null,
      "outputs": [
        {
          "output_type": "stream",
          "name": "stdout",
          "text": [
            "Enter a string to compress: AAAABBBBAAAAAB\n",
            "Run-Length Encoded result: ['A', 4, 'B', 4, 'A', 5, 'B', 1]\n"
          ]
        }
      ]
    },
    {
      "cell_type": "markdown",
      "source": [
        "###`Q-10:` Write a recursive function to convert a decimal to binary"
      ],
      "metadata": {
        "id": "x6A-4vGC8SLs"
      }
    },
    {
      "cell_type": "code",
      "source": [
        "def decimal_to_binary(decimal):\n",
        "    if decimal == 0:\n",
        "        return '0'\n",
        "    elif decimal == 1:\n",
        "        return '1'\n",
        "    else:\n",
        "        return decimal_to_binary(decimal // 2) + str(decimal % 2)\n",
        "\n",
        "decimal_number = 10\n",
        "binary_representation = decimal_to_binary(decimal_number)\n",
        "binary_representation"
      ],
      "metadata": {
        "id": "izOr6D9V8aME",
        "colab": {
          "base_uri": "https://localhost:8080/",
          "height": 35
        },
        "outputId": "232818d4-73c4-49d9-c811-3e6bb1a24428"
      },
      "execution_count": null,
      "outputs": [
        {
          "output_type": "execute_result",
          "data": {
            "text/plain": [
              "'1010'"
            ],
            "application/vnd.google.colaboratory.intrinsic+json": {
              "type": "string"
            }
          },
          "metadata": {},
          "execution_count": 5
        }
      ]
    }
  ]
}