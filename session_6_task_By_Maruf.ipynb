{
  "nbformat": 4,
  "nbformat_minor": 0,
  "metadata": {
    "colab": {
      "provenance": []
    },
    "kernelspec": {
      "name": "python3",
      "display_name": "Python 3"
    },
    "language_info": {
      "name": "python"
    }
  },
  "cells": [
    {
      "cell_type": "markdown",
      "source": [
        "### **`Problem-1:`** Write a Python function that takes a list and returns a new list with unique elements of the first list.\n",
        "\n",
        "**Exercise 1:**\n",
        "\n",
        "Input:\n",
        "\n",
        "```bash\n",
        "[1,2,3,3,3,3,4,5]\n",
        "```\n",
        "\n",
        "Output:\n",
        "\n",
        "```bash\n",
        "[1, 2, 3, 4, 5]\n",
        "```"
      ],
      "metadata": {
        "id": "h6dDSW5XGZFi"
      }
    },
    {
      "cell_type": "code",
      "source": [
        "def get_unique_items(input_list):\n",
        "  return list(set(input_list))\n",
        "\n",
        "l = [1,2,3,3,3,3,4,5]\n",
        "get_unique_items(l)"
      ],
      "metadata": {
        "id": "R5pq1C9LGe1y",
        "colab": {
          "base_uri": "https://localhost:8080/"
        },
        "outputId": "91907b20-739d-40bf-cd87-81fa30cc7184"
      },
      "execution_count": null,
      "outputs": [
        {
          "output_type": "execute_result",
          "data": {
            "text/plain": [
              "[1, 2, 3, 4, 5]"
            ]
          },
          "metadata": {},
          "execution_count": 7
        }
      ]
    },
    {
      "cell_type": "markdown",
      "source": [
        "### **`Problem-2:`** Write a Python function that accepts a hyphen-separated sequence of words as parameter and returns the words in a hyphen-separated sequence after sorting them alphabetically.\n",
        "\n",
        "**Example 1:**\n",
        "\n",
        "Input:\n",
        "```bash\n",
        "green-red-yellow-black-white\n",
        "```\n",
        "\n",
        "Output:\n",
        "```bash\n",
        "black-green-red-white-yellow\n",
        "```"
      ],
      "metadata": {
        "id": "UxQ_VoyJGwHj"
      }
    },
    {
      "cell_type": "code",
      "source": [
        "def sort_alphabetically(input_string):\n",
        "    return '-'.join(sorted(input_string.split('-')))\n",
        "\n",
        "input_string = 'green-red-yellow-black-white'\n",
        "print(sort_alphabetically(input_string))"
      ],
      "metadata": {
        "id": "AAts2m5zGwiQ",
        "colab": {
          "base_uri": "https://localhost:8080/"
        },
        "outputId": "14ff1216-6db2-4b0d-c12b-c84b5caf30d6"
      },
      "execution_count": null,
      "outputs": [
        {
          "output_type": "stream",
          "name": "stdout",
          "text": [
            "black-green-red-white-yellow\n"
          ]
        }
      ]
    },
    {
      "cell_type": "markdown",
      "source": [
        "### **`Problem 3:`** Write a Python function that accepts a string and calculate the number of upper case letters and lower case letters.\n",
        "\n",
        "```\n",
        "Sample String : 'CampusX is an Online Mentorship Program fOr EnginEering studentS.'\n",
        "Expected Output :\n",
        "No. of Upper case characters :  9\n",
        "No. of Lower case Characters :  47\n",
        "```"
      ],
      "metadata": {
        "id": "IRGH62S7Gx_n"
      }
    },
    {
      "cell_type": "code",
      "source": [
        "def count_upper_lower(input_string):\n",
        "    upper_count = 0\n",
        "    lower_count = 0\n",
        "    for char in input_string:\n",
        "        if char.isupper():\n",
        "            upper_count += 1\n",
        "        elif char.islower():\n",
        "            lower_count += 1\n",
        "\n",
        "    return f'No. of Upper case characters : {upper_count}\\nNo. of Lower case Characters : {lower_count}'\n",
        "\n",
        "input_string = 'CampusX is an Online Mentorship Program fOr EnginEering studentS.'\n",
        "print(count_upper_lower(input_string))"
      ],
      "metadata": {
        "id": "OaUrD8vVG5o8",
        "colab": {
          "base_uri": "https://localhost:8080/"
        },
        "outputId": "ec15dd73-ca71-49ed-ef95-00930665db2d"
      },
      "execution_count": null,
      "outputs": [
        {
          "output_type": "stream",
          "name": "stdout",
          "text": [
            "No. of Upper case characters : 9\n",
            "No. of Lower case Characters : 47\n"
          ]
        }
      ]
    },
    {
      "cell_type": "markdown",
      "source": [
        "### **`Problem 4:`** Write a Python program to print the even numbers from a given list.\n",
        "```\n",
        "Sample List : [1, 2, 3, 4, 5, 6, 7, 8, 9]\n",
        "Expected Result : [2, 4, 6, 8]\n",
        "```"
      ],
      "metadata": {
        "id": "V1BFFdYQG7Sn"
      }
    },
    {
      "cell_type": "code",
      "source": [
        "print(list(filter(lambda x:True if x%2==0 else False,[1, 2, 3, 4, 5, 6, 7, 8, 9])))\n",
        "\n",
        "def is_even(x):\n",
        "    return x % 2 == 0\n",
        "\n",
        "even_numbers = list(filter(is_even, [1, 2, 3, 4, 5, 6, 7, 8, 9]))\n",
        "print(even_numbers)"
      ],
      "metadata": {
        "colab": {
          "base_uri": "https://localhost:8080/"
        },
        "id": "vXxwGhoC_OnH",
        "outputId": "e2f8d01f-4ecf-44bd-abea-b2d251de3a77"
      },
      "execution_count": null,
      "outputs": [
        {
          "output_type": "stream",
          "name": "stdout",
          "text": [
            "[2, 4, 6, 8]\n",
            "[2, 4, 6, 8]\n"
          ]
        }
      ]
    },
    {
      "cell_type": "markdown",
      "source": [
        "### **`Problem 5:`** Write a Python function to check whether a number is perfect or not.\n",
        "\n",
        "A Perfect number is a number that is half the sum of all of its positive divisors (including itself).\n",
        "\n",
        "Example :\n",
        "\n",
        "```\n",
        "The first perfect number is 6, because 1, 2, and 3 are its proper positive divisors, and 1 + 2 + 3 = 6.\n",
        "Equivalently, the number 6 is equal to half the sum of all its positive divisors: ( 1 + 2 + 3 + 6 ) / 2 = 6.\n",
        "\n",
        "The next perfect number is 28 = 1 + 2 + 4 + 7 + 14. This is followed by the perfect numbers 496 and 8128.\n",
        "```\n"
      ],
      "metadata": {
        "id": "qrK39Gn-HHb4"
      }
    },
    {
      "cell_type": "code",
      "source": [
        "def is_perfect_number(n):\n",
        "    sum_of_divisors = 0\n",
        "    for i in range(1, n // 2 + 1):\n",
        "        if n % i == 0:\n",
        "            sum_of_divisors += i\n",
        "\n",
        "    return sum_of_divisors == n\n",
        "\n",
        "num = 27\n",
        "if is_perfect_number(num):\n",
        "    print(f\"{num} is a perfect number.\")\n",
        "else:\n",
        "    print(f\"{num} is not a perfect number.\")"
      ],
      "metadata": {
        "id": "P-OI7H78HICs",
        "colab": {
          "base_uri": "https://localhost:8080/"
        },
        "outputId": "7d24c76d-476f-413c-ee3d-d912f88e2b62"
      },
      "execution_count": null,
      "outputs": [
        {
          "output_type": "stream",
          "name": "stdout",
          "text": [
            "27 is not a perfect number.\n"
          ]
        }
      ]
    },
    {
      "cell_type": "markdown",
      "source": [
        "### **`Problem-6:`** Write a Python function to concatenate any no of dictionaries to create a new one.\n",
        "\n",
        "```\n",
        "Sample Dictionary :\n",
        "dic1={1:10, 2:20}\n",
        "dic2={3:30, 4:40}\n",
        "dic3={5:50,6:60}\n",
        "Expected Result : {1: 10, 2: 20, 3: 30, 4: 40, 5: 50, 6: 60}\n",
        "```"
      ],
      "metadata": {
        "id": "oZdpcG77HO-6"
      }
    },
    {
      "cell_type": "code",
      "source": [
        "def concatenate_dicts(*dicts):\n",
        "    result = {}\n",
        "    for d in dicts:\n",
        "        result.update(d)\n",
        "    return result\n",
        "\n",
        "dic1={1:10, 2:20}\n",
        "dic2={3:30, 4:40}\n",
        "dic3={5:50,6:60}\n",
        "print(concatenate_dicts(dic1, dic2, dic3))"
      ],
      "metadata": {
        "id": "LQgfAY4ZHPhj",
        "colab": {
          "base_uri": "https://localhost:8080/"
        },
        "outputId": "d8125239-1043-4dc6-a190-c17e63aa0138"
      },
      "execution_count": null,
      "outputs": [
        {
          "output_type": "stream",
          "name": "stdout",
          "text": [
            "{1: 10, 2: 20, 3: 30, 4: 40, 5: 50, 6: 60}\n"
          ]
        }
      ]
    },
    {
      "cell_type": "markdown",
      "source": [
        "`Problem-7` Write a python function that accepts a string as input and returns the word with most occurence.\n",
        "\n",
        "```\n",
        "Input:\n",
        "hello how are you i am fine thank you\n",
        "```\n",
        "\n",
        "```\n",
        "Output\n",
        "you -> 2\n",
        "```"
      ],
      "metadata": {
        "id": "jQ6SzbCkHRd0"
      }
    },
    {
      "cell_type": "code",
      "source": [
        "def most_frequent_word(input_string):\n",
        "    word_counts = {}\n",
        "    for word in input_string.split():\n",
        "        word_counts[word] = word_counts.get(word, 0) + 1\n",
        "\n",
        "    max_word = max(word_counts, key=word_counts.get)\n",
        "    return max_word, word_counts[max_word]\n",
        "\n",
        "input_string = \"hello how are you i am fine thank you\"\n",
        "word, count = most_frequent_word(input_string)\n",
        "print(f'{word} -> {count}')"
      ],
      "metadata": {
        "id": "Lh04JHLzIW7Z",
        "colab": {
          "base_uri": "https://localhost:8080/"
        },
        "outputId": "13e456af-0bce-451b-8943-163658a30fda"
      },
      "execution_count": null,
      "outputs": [
        {
          "output_type": "stream",
          "name": "stdout",
          "text": [
            "you -> 2\n"
          ]
        }
      ]
    },
    {
      "cell_type": "markdown",
      "source": [
        "`Problem-8` Write a python function that receives a list of integers and prints out a histogram of bin size 10\n",
        "\n",
        "```\n",
        "Input:\n",
        "[13,42,15,37,22,39,41,50]\n",
        "```\n",
        "\n",
        "```\n",
        "Output:\n",
        "{11-20:2,21-30:1,31-40:2,41-50:3}\n",
        "```"
      ],
      "metadata": {
        "id": "1r8SpVntI-IW"
      }
    },
    {
      "cell_type": "code",
      "source": [
        "def histogram(input_list):\n",
        "    bins = {\n",
        "        \"11-20\": 0,\n",
        "        \"21-30\": 0,\n",
        "        \"31-40\": 0,\n",
        "        \"41-50\": 0\n",
        "    }\n",
        "    for num in input_list:\n",
        "        if 11 <= num <= 20:\n",
        "            bins[\"11-20\"] += 1\n",
        "        elif 21 <= num <= 30:\n",
        "            bins[\"21-30\"] += 1\n",
        "        elif 31 <= num <= 40:\n",
        "            bins[\"31-40\"] += 1\n",
        "        elif 41 <= num <= 50:\n",
        "            bins[\"41-50\"] += 1\n",
        "    return bins\n",
        "\n",
        "input_list = [13, 42, 15, 37, 22, 39, 41, 50]\n",
        "print(histogram(input_list))"
      ],
      "metadata": {
        "id": "7W0J8rUjJovg",
        "colab": {
          "base_uri": "https://localhost:8080/"
        },
        "outputId": "a1d7bb44-2c9d-4222-ab1f-ea5caf2b2a21"
      },
      "execution_count": null,
      "outputs": [
        {
          "output_type": "stream",
          "name": "stdout",
          "text": [
            "{'11-20': 2, '21-30': 1, '31-40': 2, '41-50': 3}\n"
          ]
        }
      ]
    },
    {
      "cell_type": "markdown",
      "source": [
        "`Problem-9` Write a python function that accepts a list of 2D co-ordinates and a query point, and then finds the the co-ordinate which is closest in terms of distance from the query point.\n",
        "\n",
        "```\n",
        "List of Coordinates\n",
        "[(1,1),(2,2),(3,3),(4,4)]\n",
        "Query Point\n",
        "(0,0)\n",
        "```\n",
        "\n",
        "```\n",
        "Output\n",
        "Nearest to (0,0) is (1,1)\n",
        "```"
      ],
      "metadata": {
        "id": "1P2-rbgXKE53"
      }
    },
    {
      "cell_type": "code",
      "source": [
        "def nearest_point(coordinates, query_point):\n",
        "    min_distance = float('inf')\n",
        "    nearest_point = None\n",
        "    for x, y in coordinates:\n",
        "        distance = ((x - query_point[0]) ** 2 + (y - query_point[1]) ** 2) ** 0.5\n",
        "        if distance < min_distance:\n",
        "            min_distance = distance\n",
        "            nearest_point = (x, y)\n",
        "\n",
        "    return nearest_point\n",
        "\n",
        "coordinates = [(1, 1), (2, 2), (3, 3), (4, 4)]\n",
        "query_point = (0, 0)\n",
        "print(nearest_point(coordinates, query_point))"
      ],
      "metadata": {
        "id": "zjn7vSTIJ81G",
        "colab": {
          "base_uri": "https://localhost:8080/"
        },
        "outputId": "b6dac42b-a571-4fce-b3de-b181badc0721"
      },
      "execution_count": 1,
      "outputs": [
        {
          "output_type": "stream",
          "name": "stdout",
          "text": [
            "(1, 1)\n"
          ]
        }
      ]
    },
    {
      "cell_type": "markdown",
      "source": [
        "`Problem-10`:Write a python program that receives a list of strings and performs bag of word operation on those strings\n",
        "\n",
        "https://en.wikipedia.org/wiki/Bag-of-words_model"
      ],
      "metadata": {
        "id": "i-B6igmyK9hB"
      }
    },
    {
      "cell_type": "code",
      "source": [
        "def bag_of_words(input_list):\n",
        "    word_counts = {}\n",
        "    for string in input_list:\n",
        "        words = string.split()\n",
        "        for word in words:\n",
        "            word_counts[word] = word_counts.get(word, 0) + 1\n",
        "    return word_counts\n",
        "\n",
        "input_list = [\n",
        "    \"This is a sample sentence.\",\n",
        "    \"The quick brown fox jumps over the lazy dog.\"\n",
        "]\n",
        "print(bag_of_words(input_list))"
      ],
      "metadata": {
        "id": "N2l1_AWULT-z",
        "colab": {
          "base_uri": "https://localhost:8080/"
        },
        "outputId": "07734d20-699c-44e5-a177-3adc2f41ba83"
      },
      "execution_count": 2,
      "outputs": [
        {
          "output_type": "stream",
          "name": "stdout",
          "text": [
            "{'This': 1, 'is': 1, 'a': 1, 'sample': 1, 'sentence.': 1, 'The': 1, 'quick': 1, 'brown': 1, 'fox': 1, 'jumps': 1, 'over': 1, 'the': 1, 'lazy': 1, 'dog.': 1}\n"
          ]
        }
      ]
    },
    {
      "cell_type": "markdown",
      "source": [
        "###`Problem 11:` Write a Python program to add three given lists using Python map and lambda."
      ],
      "metadata": {
        "id": "dHTRKb-DqMLw"
      }
    },
    {
      "cell_type": "code",
      "source": [
        "def add_lists(list1, list2, list3):\n",
        "    return list(map(lambda x, y, z: x + y + z, list1, list2, list3))\n",
        "\n",
        "list1 = [1, 2, 3]\n",
        "list2 = [4, 5, 6]\n",
        "list3 = [7, 8, 9]\n",
        "print(add_lists(list1, list2, list3))"
      ],
      "metadata": {
        "id": "NfJdzyNZqNW-",
        "colab": {
          "base_uri": "https://localhost:8080/"
        },
        "outputId": "1f9c5189-0895-42c3-f40a-73d120924430"
      },
      "execution_count": 3,
      "outputs": [
        {
          "output_type": "stream",
          "name": "stdout",
          "text": [
            "[12, 15, 18]\n"
          ]
        }
      ]
    },
    {
      "cell_type": "markdown",
      "source": [
        "###`Problem-12:`Write a Python program to create a list containing the power of said number in bases raised to the corresponding number in the index using Python map.\n",
        "`Input:`\n",
        "```\n",
        "list1 = [1,2,3,4,5,6]\n",
        "```\n",
        "`Output:`\n",
        "```\n",
        "[1,2,9,64,625,-]\n",
        "```\n"
      ],
      "metadata": {
        "id": "MgHP7mbUqO8l"
      }
    },
    {
      "cell_type": "code",
      "source": [
        "def power_of_list(input_list):\n",
        "    result = list(map(lambda x, y: x ** y, input_list, range(len(input_list))))\n",
        "    # Replace the last element with '-'\n",
        "    result[-1] = '-'\n",
        "    return result\n",
        "\n",
        "list1 = [1, 2, 3, 4, 5, 6]\n",
        "print(power_of_list(list1))\n"
      ],
      "metadata": {
        "id": "gG3Dc6N3qbvN",
        "colab": {
          "base_uri": "https://localhost:8080/"
        },
        "outputId": "e098bd17-1827-41d1-9de5-2b774b03f2e7"
      },
      "execution_count": 5,
      "outputs": [
        {
          "output_type": "stream",
          "name": "stdout",
          "text": [
            "[1, 2, 9, 64, 625, '-']\n"
          ]
        }
      ]
    },
    {
      "cell_type": "markdown",
      "source": [
        "###`Problem-13` Using filter() and list() functions and .lower() method filter all the vowels in a given string.\n",
        "\n"
      ],
      "metadata": {
        "id": "G26SYq6vqdLN"
      }
    },
    {
      "cell_type": "code",
      "source": [
        "def filter_vowels(input_string):\n",
        "    vowels = 'aeiou'\n",
        "    return ''.join(list(filter(lambda x:True if x.lower() in vowels else False,input_string)))\n",
        "\n",
        "input_string = \"Hello, World!\"\n",
        "print(filter_vowels(input_string))"
      ],
      "metadata": {
        "id": "zurga3DIqmEx",
        "colab": {
          "base_uri": "https://localhost:8080/"
        },
        "outputId": "62c3a65f-419c-4d59-fccf-2d2317a1f02d"
      },
      "execution_count": 6,
      "outputs": [
        {
          "output_type": "stream",
          "name": "stdout",
          "text": [
            "eoo\n"
          ]
        }
      ]
    },
    {
      "cell_type": "markdown",
      "source": [
        "`Problem-14`: Use reduce to convert a 2D list to 1D"
      ],
      "metadata": {
        "id": "uQrsunZSqoYu"
      }
    },
    {
      "cell_type": "code",
      "source": [
        "from functools import reduce\n",
        "\n",
        "def flatten_2d_list(input_list):\n",
        "    return reduce(lambda x, y: x + y, input_list)\n",
        "\n",
        "list_2d = [[1, 2], [3, 4], [5, 6]]\n",
        "flatten_2d_list(list_2d)"
      ],
      "metadata": {
        "id": "E1YUwnfgqnka",
        "colab": {
          "base_uri": "https://localhost:8080/"
        },
        "outputId": "8fefe97f-7a58-42ef-cb67-775eac6feb10"
      },
      "execution_count": 9,
      "outputs": [
        {
          "output_type": "execute_result",
          "data": {
            "text/plain": [
              "[1, 2, 3, 4, 5, 6]"
            ]
          },
          "metadata": {},
          "execution_count": 9
        }
      ]
    },
    {
      "cell_type": "markdown",
      "source": [
        "`Problem 15`- A dictionary contains following information about 5 employees:\n",
        "- First name\n",
        "- Last name\n",
        "- Age\n",
        "- Grade(Skilled,Semi-skilled,Highly skilled)<br>\n",
        "Write a program using map/filter/reduce to a list of employees(first name + last name) who are highly skilled"
      ],
      "metadata": {
        "id": "8-DLQEawt-_t"
      }
    },
    {
      "cell_type": "code",
      "source": [
        "# Write code here\n",
        "employees = [\n",
        "    {\n",
        "        'fname':'Nitish',\n",
        "        'lname':'Singh',\n",
        "        'age' : 33,\n",
        "        'grade':'skilled'\n",
        "    },\n",
        "    {\n",
        "        'fname':'Ankit',\n",
        "        'lname':'Verma',\n",
        "        'age' : 34,\n",
        "        'grade':'semi-skilled'\n",
        "    },\n",
        "    {\n",
        "        'fname':'Neha',\n",
        "        'lname':'Singh',\n",
        "        'age' : 35,\n",
        "        'grade':'highly-skilled'\n",
        "    },\n",
        "    {\n",
        "        'fname':'Anurag',\n",
        "        'lname':'Kumar',\n",
        "        'age' : 30,\n",
        "        'grade':'skilled'\n",
        "    },\n",
        "    {\n",
        "        'fname':'Abhinav',\n",
        "        'lname':'Sharma',\n",
        "        'age' : 37,\n",
        "        'grade':'highly-skilled'\n",
        "    }\n",
        "\n",
        "]"
      ],
      "metadata": {
        "id": "OLvptttLs6OU"
      },
      "execution_count": null,
      "outputs": []
    },
    {
      "cell_type": "code",
      "source": [
        "list(map(lambda x:x['fname'] + ' ' + x['lname'],list(filter(lambda x:True if x['grade'] == 'highly-skilled' else False,employees))))"
      ],
      "metadata": {
        "id": "vLX0FAQkui3y",
        "colab": {
          "base_uri": "https://localhost:8080/"
        },
        "outputId": "e7d50543-c30e-4a20-c793-756f5a435df7"
      },
      "execution_count": null,
      "outputs": [
        {
          "output_type": "execute_result",
          "data": {
            "text/plain": [
              "['Neha Singh', 'Abhinav Sharma']"
            ]
          },
          "metadata": {},
          "execution_count": 17
        }
      ]
    },
    {
      "cell_type": "code",
      "source": [
        "# List of employee dictionaries\n",
        "employees = [\n",
        "    {\n",
        "        'fname': 'Nitish',\n",
        "        'lname': 'Singh',\n",
        "        'age': 33,\n",
        "        'grade': 'skilled'\n",
        "    },\n",
        "    {\n",
        "        'fname': 'Ankit',\n",
        "        'lname': 'Verma',\n",
        "        'age': 34,\n",
        "        'grade': 'semi-skilled'\n",
        "    },\n",
        "    {\n",
        "        'fname': 'Neha',\n",
        "        'lname': 'Singh',\n",
        "        'age': 35,\n",
        "        'grade': 'highly-skilled'\n",
        "    },\n",
        "    {\n",
        "        'fname': 'Anurag',\n",
        "        'lname': 'Kumar',\n",
        "        'age': 30,\n",
        "        'grade': 'skilled'\n",
        "    },\n",
        "    {\n",
        "        'fname': 'Abhinav',\n",
        "        'lname': 'Sharma',\n",
        "        'age': 37,\n",
        "        'grade': 'highly-skilled'\n",
        "    }\n",
        "]\n",
        "\n",
        "highly_skilled_employees = list(\n",
        "    map(lambda emp: emp['fname'] + ' ' + emp['lname'],\n",
        "        filter(lambda emp: emp['grade'] == 'highly-skilled', employees))\n",
        ")\n",
        "\n",
        "print(highly_skilled_employees)\n"
      ],
      "metadata": {
        "id": "ldMjGfkgAMr9",
        "colab": {
          "base_uri": "https://localhost:8080/"
        },
        "outputId": "a79de1b6-f0a3-4cc8-9fc4-40b9591bf969"
      },
      "execution_count": 10,
      "outputs": [
        {
          "output_type": "stream",
          "name": "stdout",
          "text": [
            "['Neha Singh', 'Abhinav Sharma']\n"
          ]
        }
      ]
    }
  ]
}