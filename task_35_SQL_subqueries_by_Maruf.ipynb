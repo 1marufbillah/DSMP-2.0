{
  "nbformat": 4,
  "nbformat_minor": 0,
  "metadata": {
    "colab": {
      "provenance": []
    },
    "kernelspec": {
      "name": "python3",
      "display_name": "Python 3"
    },
    "language_info": {
      "name": "python"
    }
  },
  "cells": [
    {
      "cell_type": "markdown",
      "source": [
        "# SQL SubQuery\n",
        "## How to load the dataset(s) to SQL?\n",
        "Using Python, you can load the large datasets to MySQL database very easily. For that follow the below steps.\n",
        "\n",
        "- First create a database in your local machine server.\n",
        "\n",
        "```sql\n",
        "CREATE DATABASE <database_name>\n",
        "```\n",
        "\n",
        "- Next, use Python to load the database\n",
        "\n",
        "```python\n",
        "import pandas as pd\n",
        "from sqlalchemy import create_engine\n",
        "\n",
        "df = pd.read_csv(\"file/path/to/the/database.csv\")\n",
        "\n",
        "engine = create_engine(\"mysql+pymysql://<db_username>:<db_password>@<hostname>/<database_name>\")\n",
        "df.to_sql(\"<table_name>\", con=engine)\n",
        "```\n",
        "\n",
        "## Problems 1-6\n",
        "\n",
        "For problems 1 to 6, use the Olympic dataset. You can get that from [here](https://drive.google.com/file/d/1EGIRBkbQGByJPvCqDtxtTnXv93oGunFp/view?usp=share_link).\n",
        "\n",
        "**Column description:**\n",
        "1. ID -> ID of every records to our dataset. It has integer datatype.\n",
        "2. Name -> Name of the athletes.\n",
        "3. Sex -> Gender of the athletes.\n",
        "4. Height -> Height of the athletes\n",
        "5. Weight -> Weight of the athletes\n",
        "6. NOC -> In which country, the athletes belong to. This is actually the country code.\n",
        "7. Year -> In which year, the athlete has participated\n",
        "8. Sport -> What is the sport name in which the athlete participated.\n",
        "9. Event -> Event name of the sport\n",
        "10. Medal -> Which medal the athlege got. If the athlete did not get any medal then this cell is blank.\n",
        "11. country -> The name of the country."
      ],
      "metadata": {
        "id": "NLmTBdPfOKCI"
      }
    },
    {
      "cell_type": "markdown",
      "source": [
        "### Problem 1\n",
        "\n",
        "Display the names of athletes who won a gold medal in the 2008 Olympics and whose height is greater than the average height of all athletes in the 2008 Olympics.\n",
        "\n",
        "\n",
        "### Problem 2\n",
        "\n",
        "Display the names of athletes who won a medal in the sport of basketball in the 2016 Olympics and whose weight is less than the average weight of all athletes who won a medal in the 2016 Olympics.\n",
        "\n",
        "\n",
        "\n",
        "### Problem 3\n",
        "\n",
        "Display the names of all athletes who have won a medal in the sport of swimming in both the 2008 and 2016 Olympics.\n",
        "\n",
        "\n",
        "\n",
        "### Problem 4\n",
        "\n",
        "Display the names of all countries that have won more than 50 medals in a single year.\n",
        "\n",
        "\n",
        "\n",
        "### Problem 5\n",
        "\n",
        "Display the names of all athletes who have won medals in more than one sport in the same year.\n",
        "\n",
        "\n",
        "\n",
        "### Problem 6\n",
        "\n",
        "What is the average weight difference between male and female athletes in the Olympics who have won a medal in the same event?"
      ],
      "metadata": {
        "id": "slnSOsPQOMFm"
      }
    },
    {
      "cell_type": "code",
      "source": [
        "1.  SELECT Name, Height FROM tasks.olympic\n",
        "    WHERE Medal = 'Gold' AND Year = 2008 AND Height > (SELECT AVG(Height) FROM tasks.olympic WHERE Year = 2008);\n",
        "\n",
        "2.  SELECT Name, Weight, Medal FROM tasks.olympic\n",
        "    WHERE Year = 2016 AND Medal IS NOT NULL AND Sport = 'Basketball' AND\n",
        "    Weight < (SELECT AVG(Weight) FROM tasks.olympic WHERE Year = 2016 AND Medal IS NOT NULL);\n",
        "\n",
        "3.  SELECT Name FROM tasks.olympic\n",
        "    WHERE Medal IS NOT NULL AND Sport = 'Swimming' AND Year = 2008\n",
        "    AND Name IN (\n",
        "        SELECT Name FROM tasks.olympic WHERE Medal IS NOT NULL\n",
        "            AND Sport = 'Swimming' AND Year = 2016\n",
        "    );\n",
        "\n",
        "4.  SELECT Country, Year, COUNT(Medal) AS Total_Medals FROM tasks.olympic\n",
        "    WHERE Medal IS NOT NULL GROUP BY Country, Year HAVING COUNT(Medal) > 50;\n",
        "\n",
        "5.  SELECT DISTINCT a.Name FROM tasks.olympic a\n",
        "    JOIN tasks.olympic b ON a.Name = b.Name\n",
        "        AND a.Year = b.Year\n",
        "        AND a.Sport <> b.Sport\n",
        "    WHERE a.Medal IS NOT NULL\n",
        "    AND b.Medal IS NOT NULL;\n",
        "\n",
        "6.  SELECT AVG(ABS(m.Weight - f.Weight)) AS avg_weight_difference\n",
        "    FROM tasks.olympic m\n",
        "    JOIN tasks.olympic f ON m.Event = f.Event\n",
        "        AND m.Year = f.Year AND m.Medal IS NOT NULL AND f.Medal IS NOT NULL\n",
        "        AND m.Sex = 'M' AND f.Sex = 'F';"
      ],
      "metadata": {
        "id": "aFr6SMoAOLJ2"
      },
      "execution_count": null,
      "outputs": []
    },
    {
      "cell_type": "markdown",
      "source": [
        "## Problem 7 - 10\n",
        "\n",
        "Use the health insurance dataset. You can get the dataset as well as the description of the dataset [here](https://www.kaggle.com/datasets/thedevastator/insurance-claim-analysis-demographic-and-health)."
      ],
      "metadata": {
        "id": "9RFThGnIOYec"
      }
    },
    {
      "cell_type": "markdown",
      "source": [
        "### Problem 7\n",
        "\n",
        "How many patients have claimed more than the average claim amount for patients who are smokers and have at least one child, and belong to the southeast region?\n",
        "\n",
        "\n",
        "### Problem 8\n",
        "\n",
        "How many patients have claimed more than the average claim amount for patients who are not smokers and have a BMI greater than the average BMI for patients who have at least one child?\n",
        "\n",
        "\n",
        "\n",
        "### Problem 9\n",
        "\n",
        "How many patients have claimed more than the average claim amount for patients who have a BMI greater than the average BMI for patients who are diabetic, have at least one child, and are from the southwest region?\n",
        "\n",
        "\n",
        "### Problem 10:\n",
        "\n",
        "What is the difference in the average claim amount between patients who are smokers and patients who are non-smokers, and have the same BMI and number of children?"
      ],
      "metadata": {
        "id": "WM6f8f9eOl_t"
      }
    },
    {
      "cell_type": "code",
      "source": [
        "7.  SELECT COUNT(*) FROM tasks.insurance\n",
        "    WHERE smoker = 'Yes' AND region = 'southeast' AND children >= 1\n",
        "    AND claim > (SELECT AVG(claim) FROM tasks.insurance WHERE smoker = 'Yes'\n",
        "                    AND region = 'southeast')\n",
        "\n",
        "8.  SELECT COUNT(*) FROM tasks.insurance\n",
        "    WHERE smoker = 'No' AND claim > (SELECT AVG(claim) FROM tasks.insurance WHERE smoker = 'No')\n",
        "        AND bmi > (SELECT AVG(bmi) FROM tasks.insurance WHERE children >= 1);\n",
        "\n",
        "9.  SELECT COUNT(*) FROM tasks.insurance\n",
        "    WHERE claim > (SELECT AVG(claim) FROM tasks.insurance)\n",
        "        AND bmi > (SELECT AVG(bmi) FROM tasks.insurance WHERE diabetic = 'Yes'\n",
        "                    AND children >= 1 AND region = 'southwest');\n",
        "\n",
        "10. SELECT bmi, children,\n",
        "        AVG(CASE WHEN smoker = 'Yes' THEN claim END) AS smoker_avg_claim,\n",
        "        AVG(CASE WHEN smoker = 'No' THEN claim END) AS nonsmoker_avg_claim,\n",
        "        (AVG(CASE WHEN smoker = 'Yes' THEN claim END) - AVG(CASE WHEN smoker = 'No' THEN claim END)) AS claim_difference\n",
        "    FROM tasks.insurance GROUP BY bmi, children\n",
        "    HAVING smoker_avg_claim IS NOT NULL AND nonsmoker_avg_claim IS NOT NULL;"
      ],
      "metadata": {
        "id": "hKdiVL-iOjJV"
      },
      "execution_count": null,
      "outputs": []
    }
  ]
}