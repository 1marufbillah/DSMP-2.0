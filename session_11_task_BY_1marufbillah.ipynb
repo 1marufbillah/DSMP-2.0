{
  "nbformat": 4,
  "nbformat_minor": 0,
  "metadata": {
    "colab": {
      "provenance": []
    },
    "kernelspec": {
      "name": "python3",
      "display_name": "Python 3"
    },
    "language_info": {
      "name": "python"
    }
  },
  "cells": [
    {
      "cell_type": "markdown",
      "source": [
        "## Exception Handling\n"
      ],
      "metadata": {
        "id": "ajVfqio_GinI"
      }
    },
    {
      "cell_type": "markdown",
      "source": [
        "###`Q-1`: You are given a function definition. There might be several issues on execution of this function. You are asked to do exception handling for diffrent errors that this function goes in to `without altering this function`. And print error text.\n",
        "\n"
      ],
      "metadata": {
        "id": "0qnQkJtnGozz"
      }
    },
    {
      "cell_type": "markdown",
      "source": [
        "Function parameters `l -> list, s -> could be anything`\n",
        "\n",
        "```\n",
        "def function(l: list, s, **args):\n",
        "    last_element = l[-1]\n",
        "    \n",
        "    l[int(s)]=10\n",
        "    any_element = l[int(s)+10]\n",
        "    l[s]=10\n",
        "    \n",
        "    res = sum(l)\n",
        "    \n",
        "    p = args['p']\n",
        "    # print(p)\n",
        "    return res/last_element * p + any_element\n",
        "\n",
        "```\n",
        "Check for different function calls:-\n",
        "\n",
        "```\n",
        "function([1,2,1], 12)\n",
        "function([1,2,1]*9, '1-2')\n",
        "function([1,'2',1]*9, 12)\n",
        "function([1,'2',1]*9, 12)\n",
        "function([1,2,0]*9, 12  )\n",
        "function([1,2,1]*9, 12, p=None)\n",
        "function([1,2,0]*9, 12, p=10)\n",
        "```"
      ],
      "metadata": {
        "id": "2no_EB2fGyGq"
      }
    },
    {
      "cell_type": "code",
      "source": [
        "def safe_function_call(l, s, **args):\n",
        "\n",
        "    try:\n",
        "        result = function(l ,s, **args)\n",
        "        print(f'Result: {result}')\n",
        "    except IndexError as e:\n",
        "        print(f'IndexError: {e}')\n",
        "    except KeyError as e:\n",
        "        print(f'KeyError: {e}')\n",
        "    except TypeError as e:\n",
        "        print(f'TypeError: {e}')\n",
        "    except ValueError as e:\n",
        "        print(f'ValueError{e}')\n",
        "    except ZeroDivisionError as e:\n",
        "        print(f'ZeroDivisionError: {e}')\n",
        "    except Exception as e:\n",
        "        print(f'Unexpected error: {e}')\n",
        "\n",
        "def function(l: list, s, **args):\n",
        "    last_element = l[-1]\n",
        "\n",
        "    l[int(s)]=10\n",
        "    any_element = l[int(s)+10]\n",
        "    l[s]=10\n",
        "\n",
        "    res = sum(l)\n",
        "\n",
        "    p = args['p']\n",
        "    # print(p)\n",
        "    return res/last_element * p + any_element\n",
        "\n",
        "safe_function_call([1, 2, 1], 12)\n",
        "safe_function_call([1, 2, 1]*9, '1-2')\n",
        "safe_function_call([1, '2', 1]*9, 12)\n",
        "safe_function_call([1, '2', 1]*9, 12)\n",
        "safe_function_call([1, 2, 0]*9, 12)\n",
        "safe_function_call([1, 2, 1]*9, 12, p=None)\n",
        "safe_function_call([1, 2, 0]*9, 12, p=10)"
      ],
      "metadata": {
        "id": "VoaL4_9eGjFU",
        "colab": {
          "base_uri": "https://localhost:8080/"
        },
        "outputId": "596823ad-e7bd-46e5-c9be-947bdfe976b1"
      },
      "execution_count": 5,
      "outputs": [
        {
          "output_type": "stream",
          "name": "stdout",
          "text": [
            "IndexError: list assignment index out of range\n",
            "ValueErrorinvalid literal for int() with base 10: '1-2'\n",
            "TypeError: unsupported operand type(s) for +: 'int' and 'str'\n",
            "TypeError: unsupported operand type(s) for +: 'int' and 'str'\n",
            "KeyError: 'p'\n",
            "TypeError: unsupported operand type(s) for *: 'float' and 'NoneType'\n",
            "ZeroDivisionError: division by zero\n"
          ]
        }
      ]
    },
    {
      "cell_type": "markdown",
      "source": [
        "###`Q-2:` You are given a code snippet. There might be several issues on execution of this code. You are asked to do exception handling for diffrent errors, condition is what ever happens we need to execute last line printing correct result of `sum of elements`.\n",
        "\n",
        "List have elemnts as any no of  `key-pair dict with key as list index and value as any integer`, `integers` and `numeric-strings`. There is always only one element in the dict.\n",
        "\n",
        "\n",
        "```\n",
        "l = [{0:2},2,3,4,'5', {5:10}]\n",
        "# For calculating sum of above list\n",
        "s=0\n",
        "for i in range(len(l)):\n",
        "    #You can Edit code from here\n",
        "    s += l[i].get(i)\n",
        "    s += l[i]\n",
        "    s += int(l[i])\n",
        "\n",
        "\n",
        "print(s)\n",
        "```"
      ],
      "metadata": {
        "id": "HuLMy2fVG9sL"
      }
    },
    {
      "cell_type": "code",
      "source": [
        "l = [{0:2},2,3,4,'5', {5:10}]\n",
        "\n",
        "s = 0\n",
        "for i in range(len(l)):\n",
        "    try:\n",
        "        if isinstance(l[i], dict):\n",
        "            s += list(l[i].values())[0]\n",
        "        elif isinstance(l[i], str):\n",
        "            s += int(l[i])\n",
        "        else:\n",
        "            s += l[i]\n",
        "    except (ValueError, TypeError, AttributeError) as e:\n",
        "        print(f'Error processing element {l[i]: {e}}')\n",
        "    finally:\n",
        "        pass\n",
        "\n",
        "print(f'Sum of elements: {s}')"
      ],
      "metadata": {
        "id": "pEP8JU0qHAf8",
        "colab": {
          "base_uri": "https://localhost:8080/"
        },
        "outputId": "c356b819-21bc-4bd7-b15b-ce716dc3337d"
      },
      "execution_count": 6,
      "outputs": [
        {
          "output_type": "stream",
          "name": "stdout",
          "text": [
            "Sum of elements: 26\n"
          ]
        }
      ]
    },
    {
      "cell_type": "markdown",
      "source": [
        "### `Q-3:`: File Handling with Exception handling\n",
        "\n",
        "Write a program that opens a text file and write data to it as \"Hello, Good Morning!!!\". Handle exceptions that can be generated during the I/O operations. Do not show the success message on the main exception handling block (write inside the else block)."
      ],
      "metadata": {
        "id": "ohE2fDTXHIan"
      }
    },
    {
      "cell_type": "code",
      "source": [
        "with open('example.txt', 'w') as file:\n",
        "    try:\n",
        "        file.write('Hello, Good Morning!!!')\n",
        "\n",
        "    except Exception as e:\n",
        "        print(f'An error occurred: {e}')\n",
        "\n",
        "    else:\n",
        "        print('Data written successfully.')\n",
        "\n",
        "    finally:\n",
        "        print('File operation completed.')"
      ],
      "metadata": {
        "id": "iOeiWrcIHPlY",
        "colab": {
          "base_uri": "https://localhost:8080/"
        },
        "outputId": "d76e7ae7-953f-4ecd-d814-bb92f4dab844"
      },
      "execution_count": 2,
      "outputs": [
        {
          "output_type": "stream",
          "name": "stdout",
          "text": [
            "Data written successfully.\n",
            "File operation completed.\n"
          ]
        }
      ]
    },
    {
      "cell_type": "markdown",
      "source": [
        "### `Q-4`: Number game program.\n",
        "\n",
        "Write a number game program. Ask the user to enter a number. If the number is greater than number to be guessed, raise a **ValueTooLarge** exception. If the value is smaller the number to be guessed the, raise a **ValueTooSmall** exception and prompt the user to enter again. Quit the program only when the user enters the correct number. Also raise **GuessError** if user guess a number less than 1."
      ],
      "metadata": {
        "id": "ru8g8-_bHTUf"
      }
    },
    {
      "cell_type": "code",
      "source": [
        "class ValueTooLarge(Exception):\n",
        "    pass\n",
        "\n",
        "class ValueTooSmall(Exception):\n",
        "    pass\n",
        "\n",
        "class GuessError(Exception):\n",
        "    pass\n",
        "\n",
        "def number_guessing_game(target):\n",
        "    while True:\n",
        "        try:\n",
        "            guess = int(input('Enter a number: '))\n",
        "            if guess < 1:\n",
        "                raise GuessError('Guess must be greater than or equal to 0.')\n",
        "            elif guess > target:\n",
        "                raise ValueTooLarge('The guessed number is too large')\n",
        "            elif guess < target:\n",
        "                raise ValueTooSmall('The guessed number is too small')\n",
        "            else:\n",
        "                print('Congratulations! You\\'ve guessed the correct number.')\n",
        "                break\n",
        "\n",
        "        except ValueTooLarge as e:\n",
        "            print(e)\n",
        "        except ValueTooSmall as e:\n",
        "            print(e)\n",
        "        except GuessError as e:\n",
        "            print(e)\n",
        "        except ValueError:\n",
        "            print('Please enter a valid integer')\n",
        "\n",
        "target = 42\n",
        "number_guessing_game(target)"
      ],
      "metadata": {
        "id": "QftlN5LJHZSX",
        "colab": {
          "base_uri": "https://localhost:8080/"
        },
        "outputId": "5fbfcb71-944a-49b3-9538-a745d8dd77cf"
      },
      "execution_count": 4,
      "outputs": [
        {
          "output_type": "stream",
          "name": "stdout",
          "text": [
            "Enter a number: 45\n",
            "The guessed number is too large\n",
            "Enter a number: 40\n",
            "The guessed number is too small\n",
            "Enter a number: 41\n",
            "The guessed number is too small\n",
            "Enter a number: 42\n",
            "Congratulations! You've guessed the correct number.\n"
          ]
        }
      ]
    },
    {
      "cell_type": "markdown",
      "source": [
        "### `Q-5:` Cast vote\n",
        "\n",
        "Write a program that validate name and age as entered by the user to determine whether the person can cast vote or not. To handle the age, create **InvalidAge** exception and for name, create **InvalidName** exception. The name will be invalid when the string will be empty or name has only one word.\n",
        "\n",
        "Example 1:\n",
        "\n",
        "Input:\n",
        "\n",
        "```bash\n",
        "Enter the name:               goransh singh\n",
        "Enter the age: 25\n",
        "```\n",
        "\n",
        "Output:\n",
        "\n",
        "```bash\n",
        "Goransh Singh  Congratulation !!! You can vote.\n",
        "```"
      ],
      "metadata": {
        "id": "ZsGI_40fHcsd"
      }
    },
    {
      "cell_type": "code",
      "source": [
        "class InvalidAge(Exception):\n",
        "    \"\"\"Custom exception for invalid age.\"\"\"\n",
        "    pass\n",
        "\n",
        "class InvalidName(Exception):\n",
        "    \"\"\"Custom exception for invalid name.\"\"\"\n",
        "    pass\n",
        "\n",
        "def validate_name(name):\n",
        "    \"\"\"Validates the name. Name is invalid if it's empty or has only one word.\"\"\"\n",
        "    if not name.strip():\n",
        "        raise InvalidName(\"Name cannot be empty.\")\n",
        "    if len(name.split()) < 2:\n",
        "        raise InvalidName(\"Name must contain at least a first name and a last name.\")\n",
        "    return name.title()\n",
        "\n",
        "def validate_age(age):\n",
        "    \"\"\"Validates the age. Age is invalid if it's less than 18.\"\"\"\n",
        "    if age < 18:\n",
        "        raise InvalidAge(\"You must be at least 18 years old to vote.\")\n",
        "    return age\n",
        "\n",
        "def main():\n",
        "    try:\n",
        "        name_input = input(\"Enter the name: \")\n",
        "        name = validate_name(name_input)\n",
        "\n",
        "        age_input = int(input(\"Enter the age: \"))\n",
        "        age = validate_age(age_input)\n",
        "\n",
        "        print(f\"{name}  Congratulation !!! You can vote.\")\n",
        "\n",
        "    except InvalidName as e:\n",
        "        print(f\"Invalid Name: {e}\")\n",
        "    except InvalidAge as e:\n",
        "        print(f\"Invalid Age: {e}\")\n",
        "    except ValueError:\n",
        "        print(\"Age must be a valid integer.\")\n",
        "\n",
        "if __name__ == \"__main__\":\n",
        "    main()\n"
      ],
      "metadata": {
        "id": "OHL3UiS4Hi3U",
        "colab": {
          "base_uri": "https://localhost:8080/"
        },
        "outputId": "3382152b-30dc-4630-8e26-afb71104c031"
      },
      "execution_count": 12,
      "outputs": [
        {
          "output_type": "stream",
          "name": "stdout",
          "text": [
            "Enter the name: Bat Man\n",
            "Enter the age: 70\n",
            "Bat Man  Congratulation !!! You can vote.\n"
          ]
        }
      ]
    },
    {
      "cell_type": "markdown",
      "source": [
        "### `Q-6`: Write a python function which infinitely prints natural numbers in a single line. Raise the **StopIteration** exception after displaying first 20 numnbers to exit from the program."
      ],
      "metadata": {
        "id": "SCvs0QjgHlOG"
      }
    },
    {
      "cell_type": "code",
      "source": [
        "def infinite_natural_numbers():\n",
        "    n = 1\n",
        "    while True:\n",
        "        yield n\n",
        "        n += 1\n",
        "\n",
        "def print_natural_numbers():\n",
        "    gen = infinite_natural_numbers()\n",
        "    try:\n",
        "        for _ in range(20):\n",
        "            print(next(gen), end=\" \")\n",
        "    except StopIteration:\n",
        "        print(\"\\nStopped after printing 20 numbers.\")\n",
        "\n",
        "# Call the function to print the numbers\n",
        "print_natural_numbers()\n"
      ],
      "metadata": {
        "id": "Lc5ilNgNHoSx",
        "colab": {
          "base_uri": "https://localhost:8080/"
        },
        "outputId": "74376d08-8e25-4c9f-f352-9d9e10373bb5"
      },
      "execution_count": 7,
      "outputs": [
        {
          "output_type": "stream",
          "name": "stdout",
          "text": [
            "1 2 3 4 5 6 7 8 9 10 11 12 13 14 15 16 17 18 19 20 "
          ]
        }
      ]
    }
  ]
}