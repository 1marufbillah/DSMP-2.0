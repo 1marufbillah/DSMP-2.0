{
  "nbformat": 4,
  "nbformat_minor": 0,
  "metadata": {
    "colab": {
      "provenance": []
    },
    "kernelspec": {
      "name": "python3",
      "display_name": "Python 3"
    },
    "language_info": {
      "name": "python"
    }
  },
  "cells": [
    {
      "cell_type": "markdown",
      "source": [
        "##`Q-1:` Rectangle Class\n",
        "1. Write a Rectangle class in Python language, allowing you to build a rectangle with length and width attributes.\n",
        "\n",
        "2. Create a Perimeter() method to calculate the perimeter of the rectangle and a Area() method to calculate the area of ​​the rectangle.\n",
        "\n",
        "3. Create a method display() that display the length, width, perimeter and area of an object created using an instantiation on rectangle class."
      ],
      "metadata": {
        "id": "FyUJ3PRAsPr4"
      }
    },
    {
      "cell_type": "markdown",
      "source": [
        "Eg.\n",
        "After making above classes and methods, on executing below code:-\n",
        "```\n",
        "my_rectangle = Rectangle(3 , 4)\n",
        "my_rectangle.display()\n",
        "```\n",
        "\n",
        "`Output:`\n",
        "```\n",
        "The length of rectangle is:  3\n",
        "The width of rectangle is:  4\n",
        "The perimeter of rectangle is:  14\n",
        "The area of rectangle is:  12\n",
        "```\n"
      ],
      "metadata": {
        "id": "GxUtOqJfssFK"
      }
    },
    {
      "cell_type": "code",
      "source": [
        "class Rectangle:\n",
        "    def __init__(self, length, width):\n",
        "        self.__length = length\n",
        "        self.__width = width\n",
        "\n",
        "    def Perimeter(self):\n",
        "        return 2 * (self.__length + self.__width)\n",
        "\n",
        "    def Area(self):\n",
        "        return self.__length * self.__width\n",
        "\n",
        "    def display(self):\n",
        "        print(\"The length of rectangle is: \", self.__length)\n",
        "        print(\"The width of rectangle is: \", self.__width)\n",
        "        print(\"The perimeter of rectangle is: \", self.Perimeter())\n",
        "        print(\"The area of rectangle is: \", self.Area())\n",
        "\n",
        "my_rectangle = Rectangle(3, 4)\n",
        "my_rectangle.display()"
      ],
      "metadata": {
        "id": "92_QT-Uj6NBg",
        "colab": {
          "base_uri": "https://localhost:8080/"
        },
        "outputId": "801a078b-cb5b-4b89-d176-edeb893f33f4"
      },
      "execution_count": 1,
      "outputs": [
        {
          "output_type": "stream",
          "name": "stdout",
          "text": [
            "The length of rectangle is:  3\n",
            "The width of rectangle is:  4\n",
            "The perimeter of rectangle is:  14\n",
            "The area of rectangle is:  12\n"
          ]
        }
      ]
    },
    {
      "cell_type": "markdown",
      "source": [
        "##`Q-2: Bank Class`\n",
        "\n",
        "1. Create a Python class called `BankAccount` which represents a bank account, having as attributes: `accountNumber` (numeric type), `name` (name of the account owner as string type), `balance`.\n",
        "2. Create a constructor with parameters: `accountNumber, name, balance`.\n",
        "3. Create a `Deposit()` method which manages the deposit actions.\n",
        "4. Create a `Withdrawal()` method  which manages withdrawals actions.\n",
        "5. Create an `bankFees()` method to apply the bank fees with a percentage of 5% of the balance account.\n",
        "6. Create a `display()` method to display account details.\n",
        "Give the complete code for the  BankAccount class."
      ],
      "metadata": {
        "id": "r_GxrS0Vrdom"
      }
    },
    {
      "cell_type": "markdown",
      "source": [
        "Eg.\n",
        "After making above classes and methods, on executing below code:-\n",
        "```\n",
        "newAccount = BankAccount(2178514584, \"Mandy\" , 2800)\n",
        "\n",
        "newAccount.Withdrawal(700)\n",
        "\n",
        "newAccount.Deposit(1000)\n",
        "\n",
        "newAccount.display()\n",
        "```\n",
        "\n",
        "`Output:`\n",
        "```\n",
        "Account Number :  2178514584\n",
        "Account Name :  Mandy\n",
        "Account Balance :  3100 ₹\n",
        "```"
      ],
      "metadata": {
        "id": "qvVkOUJgvTV_"
      }
    },
    {
      "cell_type": "code",
      "source": [
        "class Bank:\n",
        "    def __init__(self, accountNumber, name, balance):\n",
        "        self.__accountNumber = accountNumber\n",
        "        self.__name = name\n",
        "        self.__balance = balance\n",
        "\n",
        "    def Deposit(self, amount):\n",
        "        self.__balance += amount\n",
        "\n",
        "    def withdrawal(self, amount):\n",
        "        self.__balance -= amount\n",
        "\n",
        "    def bankFees(self):\n",
        "        self.balance -= self.__balance * 0.05\n",
        "\n",
        "    def display(self):\n",
        "        print(\"Account Number: \", self.__accountNumber)\n",
        "        print(\"Account Name: \", self.__name)\n",
        "        print(\"Account Balance: \", self.__balance, '₹')\n",
        "\n",
        "newAccount = Bank(2178514584, \"Mandy\", 2800)\n",
        "newAccount.withdrawal(700)\n",
        "newAccount.Deposit(1000)\n",
        "newAccount.display()"
      ],
      "metadata": {
        "id": "fUQOmQyA6YDR",
        "colab": {
          "base_uri": "https://localhost:8080/"
        },
        "outputId": "cba4ae8a-9622-46d0-a7c9-0a0d5ab7094d"
      },
      "execution_count": 3,
      "outputs": [
        {
          "output_type": "stream",
          "name": "stdout",
          "text": [
            "Account Number:  2178514584\n",
            "Account Name:  Mandy\n",
            "Account Balance:  3100 ₹\n"
          ]
        }
      ]
    },
    {
      "cell_type": "markdown",
      "source": [
        "##`Q-3:Computation class`\n",
        "\n",
        "1. Create a `Computation` class with a default constructor (without parameters) allowing to perform various calculations on integers numbers.\n",
        "2. Create a method called `Factorial()` which allows to calculate the factorial of an integer n. Integer n as parameter for this method\n",
        "\n",
        "3. Create a method called `naturalSum()` allowing to calculate the sum of the first n integers 1 + 2 + 3 + .. + n. Integer n as parameter for this method.\n",
        "\n",
        "4. Create a method called `testPrime()` in  the Calculation class to test the primality of a given integer n, n is Prime or Not? Integer n as parameter for this method.\n",
        "\n",
        "5. Create  a method called `testPrims()` allowing to test if two numbers are prime between them. Two integers are prime to one another if they have only `1` as their common divisor. Eg. 4 and 9 are prime to each other.\n",
        "\n",
        "5. Create a `tableMult()` method which creates and displays the multiplication table of a given integer. Then create an `allTablesMult()` method to display all the integer multiplication tables 1, 2, 3, ..., 9.\n",
        "\n",
        "6. Create a static `listDiv()` method that gets all the divisors of a given integer on new list called  Ldiv. Create another `listDivPrim()` method that gets all the prime divisors of a given integer."
      ],
      "metadata": {
        "id": "QovcQAZTrgGU"
      }
    },
    {
      "cell_type": "code",
      "source": [
        "class Computation:\n",
        "    def __init__(self):\n",
        "        pass\n",
        "\n",
        "    def Factorial(self, n):\n",
        "        if n == 0:\n",
        "            return 1\n",
        "        else:\n",
        "            return n * self.Factorial(n-1)\n",
        "\n",
        "    def naturalSum(self, n):\n",
        "        sum = n * (n + 1) // 2\n",
        "        return sum\n",
        "\n",
        "    def testPrims(self, n):\n",
        "        if n == 1:\n",
        "            return False\n",
        "        # Convert the upper bound of the range to an integer\n",
        "        for i in range(2, int(n ** 0.5) + 1):\n",
        "            if n % i == 0:\n",
        "                return False\n",
        "        return True\n",
        "\n",
        "    def tableMult(self, n):\n",
        "        for i in range(1, 11):\n",
        "            print(n, 'x', i, '=', n * i)\n",
        "\n",
        "    def allTablesMult(self):\n",
        "        for i in range(1, 10):\n",
        "            print('Table of', i)\n",
        "            for j in range(1, 11):\n",
        "                print(i, 'x', j, '=', i * j)\n",
        "\n",
        "    def listDiv(self, n):\n",
        "        Ldiv = []\n",
        "        for i in range(1, n + 1):\n",
        "            if n % i == 0:\n",
        "                Ldiv.append(i)\n",
        "        return Ldiv\n",
        "\n",
        "    def listDivPrim(self, n):\n",
        "        Ldiv = []\n",
        "        for i in range(1, n + 1):\n",
        "            if n % i == 0 and self.testPrims(i):\n",
        "                Ldiv.append(i)\n",
        "        return Ldiv\n",
        "\n",
        "obj = Computation()\n",
        "print(obj.Factorial(5))\n",
        "print(obj.naturalSum(5))\n",
        "print(obj.testPrims(5))\n",
        "print(obj.testPrims(4))\n",
        "obj.tableMult(5)\n",
        "obj.allTablesMult()\n",
        "print(obj.listDiv(10))\n",
        "print(obj.listDivPrim(10))"
      ],
      "metadata": {
        "id": "YEkPH70l6Z-o",
        "colab": {
          "base_uri": "https://localhost:8080/"
        },
        "outputId": "50e5bd17-55da-42d1-865f-c6b080386c3a"
      },
      "execution_count": 6,
      "outputs": [
        {
          "output_type": "stream",
          "name": "stdout",
          "text": [
            "120\n",
            "15\n",
            "True\n",
            "False\n",
            "5 x 1 = 5\n",
            "5 x 2 = 10\n",
            "5 x 3 = 15\n",
            "5 x 4 = 20\n",
            "5 x 5 = 25\n",
            "5 x 6 = 30\n",
            "5 x 7 = 35\n",
            "5 x 8 = 40\n",
            "5 x 9 = 45\n",
            "5 x 10 = 50\n",
            "Table of 1\n",
            "1 x 1 = 1\n",
            "1 x 2 = 2\n",
            "1 x 3 = 3\n",
            "1 x 4 = 4\n",
            "1 x 5 = 5\n",
            "1 x 6 = 6\n",
            "1 x 7 = 7\n",
            "1 x 8 = 8\n",
            "1 x 9 = 9\n",
            "1 x 10 = 10\n",
            "Table of 2\n",
            "2 x 1 = 2\n",
            "2 x 2 = 4\n",
            "2 x 3 = 6\n",
            "2 x 4 = 8\n",
            "2 x 5 = 10\n",
            "2 x 6 = 12\n",
            "2 x 7 = 14\n",
            "2 x 8 = 16\n",
            "2 x 9 = 18\n",
            "2 x 10 = 20\n",
            "Table of 3\n",
            "3 x 1 = 3\n",
            "3 x 2 = 6\n",
            "3 x 3 = 9\n",
            "3 x 4 = 12\n",
            "3 x 5 = 15\n",
            "3 x 6 = 18\n",
            "3 x 7 = 21\n",
            "3 x 8 = 24\n",
            "3 x 9 = 27\n",
            "3 x 10 = 30\n",
            "Table of 4\n",
            "4 x 1 = 4\n",
            "4 x 2 = 8\n",
            "4 x 3 = 12\n",
            "4 x 4 = 16\n",
            "4 x 5 = 20\n",
            "4 x 6 = 24\n",
            "4 x 7 = 28\n",
            "4 x 8 = 32\n",
            "4 x 9 = 36\n",
            "4 x 10 = 40\n",
            "Table of 5\n",
            "5 x 1 = 5\n",
            "5 x 2 = 10\n",
            "5 x 3 = 15\n",
            "5 x 4 = 20\n",
            "5 x 5 = 25\n",
            "5 x 6 = 30\n",
            "5 x 7 = 35\n",
            "5 x 8 = 40\n",
            "5 x 9 = 45\n",
            "5 x 10 = 50\n",
            "Table of 6\n",
            "6 x 1 = 6\n",
            "6 x 2 = 12\n",
            "6 x 3 = 18\n",
            "6 x 4 = 24\n",
            "6 x 5 = 30\n",
            "6 x 6 = 36\n",
            "6 x 7 = 42\n",
            "6 x 8 = 48\n",
            "6 x 9 = 54\n",
            "6 x 10 = 60\n",
            "Table of 7\n",
            "7 x 1 = 7\n",
            "7 x 2 = 14\n",
            "7 x 3 = 21\n",
            "7 x 4 = 28\n",
            "7 x 5 = 35\n",
            "7 x 6 = 42\n",
            "7 x 7 = 49\n",
            "7 x 8 = 56\n",
            "7 x 9 = 63\n",
            "7 x 10 = 70\n",
            "Table of 8\n",
            "8 x 1 = 8\n",
            "8 x 2 = 16\n",
            "8 x 3 = 24\n",
            "8 x 4 = 32\n",
            "8 x 5 = 40\n",
            "8 x 6 = 48\n",
            "8 x 7 = 56\n",
            "8 x 8 = 64\n",
            "8 x 9 = 72\n",
            "8 x 10 = 80\n",
            "Table of 9\n",
            "9 x 1 = 9\n",
            "9 x 2 = 18\n",
            "9 x 3 = 27\n",
            "9 x 4 = 36\n",
            "9 x 5 = 45\n",
            "9 x 6 = 54\n",
            "9 x 7 = 63\n",
            "9 x 8 = 72\n",
            "9 x 9 = 81\n",
            "9 x 10 = 90\n",
            "[1, 2, 5, 10]\n",
            "[2, 5]\n"
          ]
        }
      ]
    },
    {
      "cell_type": "markdown",
      "source": [
        "##`Q-4`: Build flashcard using class in Python.\n",
        "\n",
        "Build a flashcard using class in python. A flashcard is a card having information on both sides, which can be used as an aid in memoization. Flashcards usually have a question on one side and an answer on the other.\n",
        "\n",
        "**Example 1:**\n",
        "\n",
        "Approach:\n",
        "\n",
        "- Create a class named FlashCard.\n",
        "- Initialize dictionary fruits using __init__() method. Here you have to define fruit name as key and it's color as value. E.g., {\"Banana\": \"yellow\", \"Strawberries\": \"pink\"}\n",
        "- Now randomly choose a pair from fruits by using _random_ module and store the key in variable _fruit_ and _value_ in variable color.\n",
        "- Now prompt the user to answer the color of the randomly chosen fruit.\n",
        "- If correct print correct else print wrong.\n",
        "\n",
        "Output:\n",
        "```bash\n",
        "welcome to fruit quiz\n",
        "What is the color of Strawberries\n",
        "pink\n",
        "Correct answer\n",
        "Enter 0, if you want to play again: 0\n",
        "What is the color of watermelon\n",
        "green\n",
        "Correct answer\n",
        "Enter 0, if you want to play again: 1\n",
        "```"
      ],
      "metadata": {
        "id": "0yn23_oEriXa"
      }
    },
    {
      "cell_type": "code",
      "source": [
        "import random\n",
        "class FlashCard:\n",
        "    def __init__(self):\n",
        "        self.fruits = {\"Banana\": \"yellow\", \"Strawberries\": \"pink\", \"Watermelon\": \"green\"}\n",
        "\n",
        "    def play(self):\n",
        "        print(\"Welcome to fruit quiz\")\n",
        "        while True:\n",
        "            fruit, color = random.choice(list(self.fruits.items()))\n",
        "            answer = input(f\"What is the color of {fruit}? \")\n",
        "            if answer.lower() == color.lower():\n",
        "                print(\"Correct answer\")\n",
        "            else:\n",
        "                print(\"Wrong answer\")\n",
        "\n",
        "            play_again = input(\"Enter 0, if you want to play again: \")\n",
        "            if play_again != \"0\":\n",
        "                break\n",
        "\n",
        "obj = FlashCard()\n",
        "obj.play()"
      ],
      "metadata": {
        "id": "vCrUF6VU6l6w",
        "colab": {
          "base_uri": "https://localhost:8080/"
        },
        "outputId": "032e0ff6-991b-4944-865c-2bb8614061f4"
      },
      "execution_count": 7,
      "outputs": [
        {
          "name": "stdout",
          "output_type": "stream",
          "text": [
            "Welcome to fruit quiz\n",
            "What is the color of Strawberries? pink\n",
            "Correct answer\n",
            "Enter 0, if you want to play again: 0\n",
            "What is the color of Banana? blue\n",
            "Wrong answer\n",
            "Enter 0, if you want to play again: 1\n"
          ]
        }
      ]
    },
    {
      "cell_type": "markdown",
      "source": [
        "## `Q-5:` Problem 5 based on OOP Python.\n",
        "\n",
        "TechWorld, a technology training center, wants to allocate courses for instructors. An instructor is identified by name, technology skills, experience and average feedback. An instructor is allocated a course, if he/she satisfies the below two conditions:\n",
        "- eligibility criteria:\n",
        "    - if experience is more than 3 years, average feedback should be 4.5 or more\n",
        "    - if experience is 3 years or less, average feedback should be 4 or more\n",
        "- he/she should posses the technology skill for the course\n",
        "\n",
        "Identify the class name and attributes to represent instructors. Write a Python program to implement the class chosen with its attributes and methods.\n",
        "\n",
        "**Note:**\n",
        "- Consider all instance variables to be private and methods to be public.\n",
        "- An instructor may have multiple technology skills, so consider instance variable, technology_skill to be a list.\n",
        "- *check_eligibility()*: Return true if eligibility criteria is satisfied by the instructor. Else, return false\n",
        "- *allocate_course(technology)*: Return true if the course which requires the given technology can be allocated to the instructor. Else, return false.\n",
        "\n",
        "Represent a few objects of the class, initialize instance variables using setter methods, invoke\n",
        "appropriate methods and test your program."
      ],
      "metadata": {
        "id": "GN2r0jbRewYr"
      }
    },
    {
      "cell_type": "code",
      "source": [
        "class Instructor:\n",
        "    def __init__(self, name, experience, feedback, technology_skills):\n",
        "        self.__name = name\n",
        "        self.__experience = experience\n",
        "        self.__feedback = feedback\n",
        "        self.__technology_skills = technology_skills\n",
        "\n",
        "    def check_eligibility(self):\n",
        "        if self.__experience > 3:\n",
        "            return self.__feedback >= 4.5\n",
        "        else:\n",
        "            return self.__feedback >= 4\n",
        "\n",
        "    def allocate_course(self, technology):\n",
        "        if technology in self.__technology_skills and self.check_eligibility():\n",
        "            return True\n",
        "        return False\n",
        "\n",
        "    def set_name(self, name):\n",
        "        self.__name = name\n",
        "\n",
        "    def set_experience(self, experience):\n",
        "        self.__experience = experience\n",
        "\n",
        "    def set_feedback(self, feedback):\n",
        "        self.__feedback = feedback\n",
        "\n",
        "    def set_technology_skills(self, technology_skills):\n",
        "        self.__technology_skills = technology_skills\n",
        "\n",
        "    def get_name(self):\n",
        "        return self.__name\n",
        "\n",
        "    def get_experience(self):\n",
        "        return self.__experience\n",
        "\n",
        "    def get_feedback(self):\n",
        "        return self.__feedback\n",
        "\n",
        "    def get_technology_skills(self):\n",
        "        return self.__technology_skills\n",
        "\n",
        "\n",
        "instructor1 = Instructor(\"Alice\", 4, 4.7, [\"Python\", \"Java\", \"C++\"])\n",
        "instructor2 = Instructor(\"Bob\", 2, 4.1, [\"JavaScript\", \"HTML\", \"CSS\"])\n",
        "instructor3 = Instructor(\"Charlie\", 5, 4.4, [\"Python\", \"Java\", \"C++\"])\n",
        "\n",
        "print(instructor1.check_eligibility())  # True\n",
        "print(instructor2.check_eligibility())  # True\n",
        "print(instructor3.check_eligibility())  # False\n",
        "\n",
        "print(instructor1.allocate_course(\"Python\"))  # True\n",
        "print(instructor2.allocate_course(\"Python\"))  # False\n",
        "print(instructor3.allocate_course(\"Python\"))  # False\n",
        "print(instructor2.allocate_course(\"JavaScript\"))  # True\n"
      ],
      "metadata": {
        "id": "pdMFuVFnlvKL",
        "colab": {
          "base_uri": "https://localhost:8080/"
        },
        "outputId": "73a19548-9667-4ae6-e567-f1cbcc35edf0"
      },
      "execution_count": 8,
      "outputs": [
        {
          "output_type": "stream",
          "name": "stdout",
          "text": [
            "True\n",
            "True\n",
            "False\n",
            "True\n",
            "False\n",
            "False\n",
            "True\n"
          ]
        }
      ]
    }
  ]
}