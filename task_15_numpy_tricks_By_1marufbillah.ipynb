{
  "nbformat": 4,
  "nbformat_minor": 0,
  "metadata": {
    "colab": {
      "provenance": []
    },
    "kernelspec": {
      "name": "python3",
      "display_name": "Python 3"
    },
    "language_info": {
      "name": "python"
    }
  },
  "cells": [
    {
      "cell_type": "markdown",
      "source": [
        "###`Q-1:` Create a random 3x4 matrix with value between 0-100. And perform below tasks\n",
        "\n",
        "    i. Sort this matrix. np.sort()\n",
        "    ii. Sort this matrix based on values in 2nd column.\n",
        "    iii. Sort this matrix based on max value in each row.\n",
        "    iv. Sort based on elements value.\n"
      ],
      "metadata": {
        "id": "J88qfqQEk_sT"
      }
    },
    {
      "cell_type": "markdown",
      "source": [
        "See examples:\n",
        "```\n",
        "arr =\n",
        "    [[92 90 74]\n",
        "    [ 6 63 93]\n",
        "    [15 93 96]\n",
        "    [70 60 48]]\n",
        "```\n",
        "```\n",
        "i. np.sort\n",
        "[[74 90 92]\n",
        " [ 6 63 93]\n",
        " [15 93 96]\n",
        " [48 60 70]]\n",
        "\n",
        "ii. based on 2nd column\n",
        "[[70 60 48]\n",
        " [ 6 63 93]\n",
        " [92 90 74]\n",
        " [15 93 96]]\n",
        "\n",
        "iii. based on row max- ascending\n",
        "[[15 93 96]\n",
        " [ 6 63 93]\n",
        " [92 90 74]\n",
        " [70 60 48]]\n",
        "\n",
        "iv. based on elements value\n",
        "[[ 6 15 48]\n",
        " [60 63 70]\n",
        " [74 90 92]\n",
        " [93 93 96]]\n",
        "\n",
        "```"
      ],
      "metadata": {
        "id": "xpOwOdhqlE9R"
      }
    },
    {
      "cell_type": "code",
      "source": [
        "import numpy as np\n",
        "\n",
        "matrix = np.random.randint(0, 101, (3, 4))\n",
        "print(\"Original Matrix:\\n\", matrix)\n",
        "\n",
        "# i. Sort this matrix using np.sort()\n",
        "sorted_matrix = np.sort(matrix, axis=1)\n",
        "print(\"\\nMatrix sorted row-wise (each row is sorted individually):\\n\", sorted_matrix)\n",
        "\n",
        "# ii. Sort this matrix based on values in the 2nd column\n",
        "sorted_by_second_column = matrix[matrix[:, 1].argsort()]\n",
        "print(\"\\nMatrix sorted based on values in the 2nd column:\\n\", sorted_by_second_column)\n",
        "\n",
        "# iii. Sort this matrix based on the max value in each row\n",
        "sorted_by_row_max = matrix[np.max(matrix, axis=1).argsort()]\n",
        "print(\"\\nMatrix sorted based on max value in each row:\\n\", sorted_by_row_max)\n",
        "\n",
        "# iv. Sort based on elements value\n",
        "sorted_by_elements = np.sort(matrix, axis=None).reshape(3, 4)\n",
        "print(\"\\nMatrix sorted by all elements (flattened and sorted):\\n\", sorted_by_elements)"
      ],
      "metadata": {
        "id": "Auy-guUwlALv",
        "colab": {
          "base_uri": "https://localhost:8080/"
        },
        "outputId": "6269fa38-21d2-4c19-dced-966c3c26ba56"
      },
      "execution_count": null,
      "outputs": [
        {
          "output_type": "stream",
          "name": "stdout",
          "text": [
            "Original Matrix:\n",
            " [[36 35 14 18]\n",
            " [ 3 48 79 57]\n",
            " [ 9 19  2 28]]\n",
            "\n",
            "Matrix sorted row-wise (each row is sorted individually):\n",
            " [[14 18 35 36]\n",
            " [ 3 48 57 79]\n",
            " [ 2  9 19 28]]\n",
            "\n",
            "Matrix sorted based on values in the 2nd column:\n",
            " [[ 9 19  2 28]\n",
            " [36 35 14 18]\n",
            " [ 3 48 79 57]]\n",
            "\n",
            "Matrix sorted based on max value in each row:\n",
            " [[ 9 19  2 28]\n",
            " [36 35 14 18]\n",
            " [ 3 48 79 57]]\n",
            "\n",
            "Matrix sorted by all elements (flattened and sorted):\n",
            " [[ 2  3  9 14]\n",
            " [18 19 28 35]\n",
            " [36 48 57 79]]\n"
          ]
        }
      ]
    },
    {
      "cell_type": "markdown",
      "source": [
        "###`Q-2:` There is an array of marks of 5 students in 4 subjects. Further you are asked to perform below task.\n",
        "    i. Add marks every student of an extra subject in the same array.\n",
        "    ii. Add two new students marks in respective 5 subjects.(one subject added in above task)\n",
        "    iii. Add extra column with sum of all subjects(5-subjects) marks\n",
        "    iv. Sort the array(non-ascending order) on total marks column--one added in above task. Show top 2 rows.\n",
        "\n",
        "Note: Change dimension of arrays during concatenation or appending if required."
      ],
      "metadata": {
        "id": "Jx_I3gx9lBay"
      }
    },
    {
      "cell_type": "markdown",
      "source": [
        "Given Array-\n",
        "```\n",
        "marks = [[13, 10,  9, 33],\n",
        "       [63, 46, 90, 42],\n",
        "       [39, 76, 13, 29],\n",
        "       [82,  9, 29, 78],\n",
        "       [67, 61, 59, 36]]\n",
        "\n",
        "extra_subject = [41, 87, 72, 36, 92]\n",
        "#Two extra students record-\n",
        "rec1 = [77, 83, 98, 95, 89]\n",
        "rec2 = [92, 71, 52, 61, 53]\n",
        "```"
      ],
      "metadata": {
        "id": "lXF-CE6ylNIw"
      }
    },
    {
      "cell_type": "code",
      "source": [
        "import numpy as np\n",
        "\n",
        "# Given data\n",
        "marks = np.array([\n",
        "    [13, 10,  9, 33],\n",
        "    [63, 46, 90, 42],\n",
        "    [39, 76, 13, 29],\n",
        "    [82,  9, 29, 78],\n",
        "    [67, 61, 59, 36]\n",
        "])\n",
        "\n",
        "extra_subject = np.array([41, 87, 72, 36, 92])\n",
        "rec1 = np.array([77, 83, 98, 95, 89])\n",
        "rec2 = np.array([92, 71, 52, 61, 53])\n",
        "\n",
        "# Task i: Add marks of an extra subject\n",
        "marks_with_extra_subject = np.column_stack((marks, extra_subject))\n",
        "print(\"Marks with extra subject added:\\n\", marks_with_extra_subject)\n",
        "\n",
        "# Task ii: Add two new students\n",
        "new_students = np.array([rec1, rec2])\n",
        "marks_with_new_students = np.vstack((marks_with_extra_subject, new_students))\n",
        "print(\"\\nMarks with new students added:\\n\", marks_with_new_students)\n",
        "\n",
        "# Task iii: Add extra column with sum of all subjects marks\n",
        "total_marks = np.sum(marks_with_new_students, axis=1)\n",
        "marks_with_totals = np.column_stack((marks_with_new_students, total_marks))\n",
        "print(\"\\nMarks with total marks column added:\\n\", marks_with_totals)\n",
        "\n",
        "# Task iv: Sort the array based on total marks and show top 2 rows\n",
        "sorted_marks = marks_with_totals[marks_with_totals[:, -1].argsort()[::-1]]\n",
        "top_2_students = sorted_marks[:2]\n",
        "print(\"\\nTop 2 students based on total marks:\\n\", top_2_students)\n"
      ],
      "metadata": {
        "id": "7YKsWO2olMkq",
        "colab": {
          "base_uri": "https://localhost:8080/"
        },
        "outputId": "8ef3be38-77c5-4977-f313-178f65ebb97c"
      },
      "execution_count": 1,
      "outputs": [
        {
          "output_type": "stream",
          "name": "stdout",
          "text": [
            "Marks with extra subject added:\n",
            " [[13 10  9 33 41]\n",
            " [63 46 90 42 87]\n",
            " [39 76 13 29 72]\n",
            " [82  9 29 78 36]\n",
            " [67 61 59 36 92]]\n",
            "\n",
            "Marks with new students added:\n",
            " [[13 10  9 33 41]\n",
            " [63 46 90 42 87]\n",
            " [39 76 13 29 72]\n",
            " [82  9 29 78 36]\n",
            " [67 61 59 36 92]\n",
            " [77 83 98 95 89]\n",
            " [92 71 52 61 53]]\n",
            "\n",
            "Marks with total marks column added:\n",
            " [[ 13  10   9  33  41 106]\n",
            " [ 63  46  90  42  87 328]\n",
            " [ 39  76  13  29  72 229]\n",
            " [ 82   9  29  78  36 234]\n",
            " [ 67  61  59  36  92 315]\n",
            " [ 77  83  98  95  89 442]\n",
            " [ 92  71  52  61  53 329]]\n",
            "\n",
            "Top 2 students based on total marks:\n",
            " [[ 77  83  98  95  89 442]\n",
            " [ 92  71  52  61  53 329]]\n"
          ]
        }
      ]
    },
    {
      "cell_type": "markdown",
      "source": [
        "###`Q-3:` Find unique arrays from a 2D array column wise and row wise.\n",
        "```\n",
        "arr = np.array([[1,2,3,3,1,1],\n",
        "                [0,9,1,2,8,8],\n",
        "                [1,2,3,8,8,8],\n",
        "                [1,2,3,3,1,1]])\n",
        "```\n",
        "Expected Result-\n",
        "```\n",
        "Row Wise\n",
        "[[0 9 1 2 8 8]\n",
        " [1 2 3 3 1 1]\n",
        " [1 2 3 8 8 8]]\n",
        "\n",
        "Col Wise\n",
        "[[1 1 2 3 3]\n",
        " [0 8 9 1 2]\n",
        " [1 8 2 3 8]\n",
        " [1 1 2 3 3]]\n",
        "```"
      ],
      "metadata": {
        "id": "VmOyK_8klRqR"
      }
    },
    {
      "cell_type": "code",
      "source": [
        "import numpy as np\n",
        "\n",
        "arr = np.array([\n",
        "    [1, 2, 3, 3, 1, 1],\n",
        "    [0, 9, 1, 2, 8, 8],\n",
        "    [1, 2, 3, 8, 8, 8],\n",
        "    [1, 2, 3, 3, 1, 1]\n",
        "])\n",
        "\n",
        "# Finding unique rows\n",
        "unique_rows = np.unique(arr, axis=0)\n",
        "print(\"Unique Rows:\\n\", unique_rows)\n",
        "\n",
        "# Finding unique columns\n",
        "unique_columns = np.unique(arr.T, axis=0).T\n",
        "print(\"\\nUnique Columns:\\n\", unique_columns)\n"
      ],
      "metadata": {
        "id": "LJl10VQrlU5q",
        "colab": {
          "base_uri": "https://localhost:8080/"
        },
        "outputId": "9c794865-c8d2-49f4-ef76-1a0f32c02e3d"
      },
      "execution_count": 2,
      "outputs": [
        {
          "output_type": "stream",
          "name": "stdout",
          "text": [
            "Unique Rows:\n",
            " [[0 9 1 2 8 8]\n",
            " [1 2 3 3 1 1]\n",
            " [1 2 3 8 8 8]]\n",
            "\n",
            "Unique Columns:\n",
            " [[1 1 2 3 3]\n",
            " [0 8 9 1 2]\n",
            " [1 8 2 3 8]\n",
            " [1 1 2 3 3]]\n"
          ]
        }
      ]
    },
    {
      "cell_type": "markdown",
      "source": [
        "###`Q-4:` Flip given 2-D array along both axes at the same time."
      ],
      "metadata": {
        "id": "RaXwVkywlWY2"
      }
    },
    {
      "cell_type": "code",
      "source": [
        "import numpy as np\n",
        "\n",
        "arr = np.array([\n",
        "    [1, 2, 3, 4],\n",
        "    [5, 6, 7, 8],\n",
        "    [9, 10, 11, 12],\n",
        "    [13, 14, 15, 16]\n",
        "])\n",
        "\n",
        "# Flip the array along both axes\n",
        "flipped_array = np.flip(arr, axis=(0, 1))\n",
        "\n",
        "print(arr)\n",
        "print(\"\\nFlipped Array along both axes:\\n\", flipped_array)"
      ],
      "metadata": {
        "id": "mN7-4G8Kleeq",
        "colab": {
          "base_uri": "https://localhost:8080/"
        },
        "outputId": "a51423ac-911b-44c9-eb31-869f1eb34760"
      },
      "execution_count": 4,
      "outputs": [
        {
          "output_type": "stream",
          "name": "stdout",
          "text": [
            "[[ 1  2  3  4]\n",
            " [ 5  6  7  8]\n",
            " [ 9 10 11 12]\n",
            " [13 14 15 16]]\n",
            "\n",
            "Flipped Array along both axes:\n",
            " [[16 15 14 13]\n",
            " [12 11 10  9]\n",
            " [ 8  7  6  5]\n",
            " [ 4  3  2  1]]\n"
          ]
        }
      ]
    },
    {
      "cell_type": "markdown",
      "source": [
        "### `Q-5:` Get row numbers of NumPy array having element larger than X.\n",
        "```\n",
        "arr = [[1,2,3,4,5],\n",
        "      [10,-3,30,4,5],\n",
        "      [3,2,5,-4,5],\n",
        "      [9,7,3,6,5]]\n",
        "\n",
        "X = 6\n",
        "```"
      ],
      "metadata": {
        "id": "X0S7BUNTlfoq"
      }
    },
    {
      "cell_type": "code",
      "source": [
        "arr = np.array([\n",
        "    [1, 2, 3, 4, 5],\n",
        "    [10, -3, 30, 4, 5],\n",
        "    [3, 2, 5, -4, 5],\n",
        "    [9, 7, 3, 6, 5]\n",
        "])\n",
        "\n",
        "X = 6\n",
        "\n",
        "row_numbers = np.where(np.any(arr > X, axis=1))[0]\n",
        "print(row_numbers)"
      ],
      "metadata": {
        "id": "bi8jRmWhlkBU",
        "colab": {
          "base_uri": "https://localhost:8080/"
        },
        "outputId": "a371561c-9fbc-4da7-bfbe-489326f2854f"
      },
      "execution_count": 5,
      "outputs": [
        {
          "output_type": "stream",
          "name": "stdout",
          "text": [
            "[1 3]\n"
          ]
        }
      ]
    },
    {
      "cell_type": "markdown",
      "source": [
        "### `Q-6:` How to convert an array of arrays into a flat 1d array?\n"
      ],
      "metadata": {
        "id": "DSCQMo4mlnDG"
      }
    },
    {
      "cell_type": "code",
      "source": [
        "# These arrays are given.\n",
        "arr1 = np.arange(3)\n",
        "arr2 = np.arange(3,7)\n",
        "arr3 = np.arange(7,10)"
      ],
      "metadata": {
        "id": "QZhSkUT2lsJW"
      },
      "execution_count": null,
      "outputs": []
    },
    {
      "cell_type": "code",
      "source": [
        "arr1 = np.arange(3)\n",
        "arr2 = np.arange(3, 7)\n",
        "arr3 = np.arange(7, 10)\n",
        "\n",
        "flat_array = np.concatenate((arr1, arr2, arr3))\n",
        "\n",
        "print(flat_array)"
      ],
      "metadata": {
        "id": "f42OXNrFls0I",
        "colab": {
          "base_uri": "https://localhost:8080/"
        },
        "outputId": "a56561ba-e604-411c-a2a6-3af28d6ca3b3"
      },
      "execution_count": 7,
      "outputs": [
        {
          "output_type": "stream",
          "name": "stdout",
          "text": [
            "[0 1 2 3 4 5 6 7 8 9]\n"
          ]
        }
      ]
    },
    {
      "cell_type": "markdown",
      "source": [
        "### `Q-7:` You are given a array. You have to find the minimum and maximum array element and remove that from the array.\n",
        "\n",
        "```python\n",
        "import numpy as np\n",
        "\n",
        "np.random.seed(400)\n",
        "arr = np.random.randint(100, 1000, 200).reshape((1, 200))\n",
        "```"
      ],
      "metadata": {
        "id": "A1J4oOVCluqO"
      }
    },
    {
      "cell_type": "code",
      "source": [
        "import numpy as np\n",
        "\n",
        "# Set seed and create the array\n",
        "np.random.seed(400)\n",
        "arr = np.random.randint(100, 1000, 200).reshape((1, 200))\n",
        "\n",
        "# Find the minimum and maximum elements in the array\n",
        "min_val = np.min(arr)\n",
        "max_val = np.max(arr)\n",
        "\n",
        "print(f\"Minimum value in the array: {min_val}\")\n",
        "print(f\"Maximum value in the array: {max_val}\")\n",
        "\n",
        "# Remove the minimum and maximum elements from the array\n",
        "arr_without_min_max = arr[arr != min_val]\n",
        "arr_without_min_max = arr_without_min_max[arr_without_min_max != max_val]\n",
        "\n",
        "print(\"\\nArray after removing minimum and maximum values:\\n\", arr_without_min_max)\n"
      ],
      "metadata": {
        "id": "c6kmgtUJlybZ",
        "colab": {
          "base_uri": "https://localhost:8080/"
        },
        "outputId": "6df3281f-3ce1-4da8-b892-072c2a295ecd"
      },
      "execution_count": 9,
      "outputs": [
        {
          "output_type": "stream",
          "name": "stdout",
          "text": [
            "Minimum value in the array: 103\n",
            "Maximum value in the array: 998\n",
            "\n",
            "Array after removing minimum and maximum values:\n",
            " [448 563 418 240 507 362 345 236 719 291 298 639 458 387 262 613 267 882\n",
            " 181 425 790 635 889 818 872 967 277 470 336 920 917 295 557 830 506 385\n",
            " 353 975 592 997 137 340 222 215 472 459 617 649 935 956 914 932 645 952\n",
            " 921 490 527 972 278 307 840 958 246 449 251 957 627 920 824 356 825 173\n",
            " 323 372 960 710 464 244 782 763 635 436 774 171 469 178 458 624 211 771\n",
            " 270 308 231 952 514 699 702 433 900 373 318 265 503 320 230 324 922 967\n",
            " 620 743 527 117 566 804 123 946 587 227 853 757 944 328 855 930 325 729\n",
            " 426 514 296 879 575 936 705 209 191 743 510 513 628 559 658 528 395 525\n",
            " 922 136 496 225 895 975 263 908 420 711 800 976 786 235 930 859 618 226\n",
            " 695 460 218 483 490 803 621 453 193 607 677 637 728 724 534 748 291 194\n",
            " 761 875 687 569 228 482 781 554 654 739 885 197 266 228 892 207 883 588]\n"
          ]
        }
      ]
    },
    {
      "cell_type": "markdown",
      "source": [
        "### `Q-8:` You are given an arrays. You have to limit this array's elements between 100 to 200. $arr ∈ [100, 700]$. So replace those values accordingly with the minimum and maximum value. Then sort the array and perform the cumulative sum of that array."
      ],
      "metadata": {
        "id": "0dHN1sdnl0Jy"
      }
    },
    {
      "cell_type": "code",
      "source": [
        "import numpy as np\n",
        "\n",
        "arr = np.array([150, 250, 120, 180, 300, 90, 210, 700])\n",
        "\n",
        "# Step 1: Limit the array's elements between 100 and 200\n",
        "arr = np.clip(arr, 100, 200)\n",
        "\n",
        "print(\"Array after limiting values between 100 and 200:\\n\", arr)\n",
        "\n",
        "# Step 2: Sort the array\n",
        "arr_sorted = np.sort(arr)\n",
        "\n",
        "print(\"\\nSorted Array:\\n\", arr_sorted)\n",
        "\n",
        "# Step 3: Perform the cumulative sum of the sorted array\n",
        "cumulative_sum = np.cumsum(arr_sorted)\n",
        "\n",
        "print(\"\\nCumulative Sum of the Sorted Array:\\n\", cumulative_sum)"
      ],
      "metadata": {
        "id": "a3YF_E-Hlza7",
        "colab": {
          "base_uri": "https://localhost:8080/"
        },
        "outputId": "2fe569e9-7902-43e0-f2c7-3dfaf76ba18d"
      },
      "execution_count": 10,
      "outputs": [
        {
          "output_type": "stream",
          "name": "stdout",
          "text": [
            "Array after limiting values between 100 and 200:\n",
            " [150 200 120 180 200 100 200 200]\n",
            "\n",
            "Sorted Array:\n",
            " [100 120 150 180 200 200 200 200]\n",
            "\n",
            "Cumulative Sum of the Sorted Array:\n",
            " [ 100  220  370  550  750  950 1150 1350]\n"
          ]
        }
      ]
    },
    {
      "cell_type": "markdown",
      "source": [
        "### `Q-9:` You are given a array ($arr ∈ [0, 1]$). First you have round off the elements upto 3 decimal places and compare that\n",
        "- 0th percentile == minimum value of the array\n",
        "- 100th percentile == maximum value of the array\n",
        "- also find the difference betwen 51th percenile and 50th percentile values"
      ],
      "metadata": {
        "id": "cXj90Susl4-I"
      }
    },
    {
      "cell_type": "code",
      "source": [
        "import numpy as np\n",
        "\n",
        "arr = np.random.rand(10)\n",
        "\n",
        "# Step 1: Round off the elements to 3 decimal places\n",
        "arr_rounded = np.round(arr, 3)\n",
        "print(\"Array after rounding to 3 decimal places:\\n\", arr_rounded)\n",
        "\n",
        "# Step 2: Compare 0th percentile with minimum value and 100th percentile with maximum value\n",
        "min_value = np.min(arr_rounded)\n",
        "max_value = np.max(arr_rounded)\n",
        "\n",
        "percentile_0th = np.percentile(arr_rounded, 0)\n",
        "percentile_100th = np.percentile(arr_rounded, 100)\n",
        "\n",
        "print(\"\\n0th percentile:\", percentile_0th)\n",
        "print(\"Minimum value:\", min_value)\n",
        "print(\"0th percentile == Minimum value:\", percentile_0th == min_value)\n",
        "\n",
        "print(\"\\n100th percentile:\", percentile_100th)\n",
        "print(\"Maximum value:\", max_value)\n",
        "print(\"100th percentile == Maximum value:\", percentile_100th == max_value)\n",
        "\n",
        "# Step 3: Find the difference between 51st percentile and 50th percentile values\n",
        "percentile_50th = np.percentile(arr_rounded, 50)\n",
        "percentile_51st = np.percentile(arr_rounded, 51)\n",
        "\n",
        "difference = percentile_51st - percentile_50th\n",
        "print(\"\\n50th percentile value:\", percentile_50th)\n",
        "print(\"51st percentile value:\", percentile_51st)\n",
        "print(\"Difference between 51st and 50th percentiles:\", difference)"
      ],
      "metadata": {
        "id": "SgBEHodgl7Lo",
        "colab": {
          "base_uri": "https://localhost:8080/"
        },
        "outputId": "19105de8-ff80-4931-a22e-8a2a9ee7661e"
      },
      "execution_count": 13,
      "outputs": [
        {
          "output_type": "stream",
          "name": "stdout",
          "text": [
            "Array after rounding to 3 decimal places:\n",
            " [0.974 0.4   0.696 0.776 0.484 0.204 0.536 0.082 0.63  0.206]\n",
            "\n",
            "0th percentile: 0.082\n",
            "Minimum value: 0.082\n",
            "0th percentile == Minimum value: True\n",
            "\n",
            "100th percentile: 0.974\n",
            "Maximum value: 0.974\n",
            "100th percentile == Maximum value: True\n",
            "\n",
            "50th percentile value: 0.51\n",
            "51st percentile value: 0.51468\n",
            "Difference between 51st and 50th percentiles: 0.0046800000000000175\n"
          ]
        }
      ]
    },
    {
      "cell_type": "code",
      "source": [],
      "metadata": {
        "id": "Lq_hQgbLE9pv"
      },
      "execution_count": null,
      "outputs": []
    }
  ]
}