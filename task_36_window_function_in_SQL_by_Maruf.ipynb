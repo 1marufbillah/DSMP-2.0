{
  "nbformat": 4,
  "nbformat_minor": 0,
  "metadata": {
    "colab": {
      "provenance": []
    },
    "kernelspec": {
      "name": "python3",
      "display_name": "Python 3"
    },
    "language_info": {
      "name": "python"
    }
  },
  "cells": [
    {
      "cell_type": "code",
      "execution_count": null,
      "metadata": {
        "id": "Lx3OWsZxGHaH"
      },
      "outputs": [],
      "source": [
        "1.  SELECT * FROM (\n",
        "\t\t\tSELECT *, RANK() OVER(ORDER BY claim DESC) AS claim_rank\n",
        "\t\t\tFROM campus.insurance) as subquery\n",
        "    WHERE claim_rank <= 5;\n",
        "\n",
        "2.  SELECT DISTINCT children, AVG(claim) OVER(PARTITION BY children) AS avg_claim\n",
        "    FROM campus.insurance;\n",
        "\n",
        "3.  SELECT DISTINCT region,\n",
        "       MIN(claim) OVER(PARTITION BY region) AS min_claim,\n",
        "       MAX(claim) OVER(PARTITION BY region) AS max_claim\n",
        "    FROM campus.insurance\n",
        "    WHERE region <> '';\n",
        "\n",
        "4.  SELECT DISTINCT age, AVG(CASE WHEN smoker = 'Yes' THEN 1 ELSE 0 END) OVER(\n",
        "\tPARTITION BY age ) * 100 AS smoker_percentage\n",
        "    FROM campus.insurance WHERE age <> ''\n",
        "\n",
        "5.  SELECT PatientID, claim, claim - FIRST_VALUE(claim) OVER(\n",
        "\tPARTITION BY PatientID ORDER BY claim) AS claim_difference\n",
        "    FROM campus.insurance;\n",
        "\n",
        "6.  SELECT PatientID, claim - AVG(claim) OVER(PARTITION BY children ) AS claim_diff\n",
        "    FROM campus.insurance ORDER BY claim_diff DESC;\n",
        "\n",
        "7.  SELECT PatientID, region, bmi, DENSE_RANK() OVER(\n",
        "\tPARTITION BY region ORDER BY bmi DESC) AS bmi_rank\n",
        "    FROM campus.insurance WHERE region <> '';\n",
        "\n",
        "8.  SELECT PatientID, claim,\n",
        "    claim - FIRST_VALUE(claim) OVER (PARTITION BY region ORDER BY bmi DESC) AS claim_diff\n",
        "    FROM campus.insurance;\n",
        "\n",
        "9.  SELECT PatientID, claim,\n",
        "    MAX(claim) OVER (PARTITION BY region, bmi, smoker) AS max_claim,\n",
        "    claim - MAX(claim) OVER (PARTITION BY region, bmi, smoker) AS claim_diff\n",
        "    FROM campus.insurance\n",
        "    ORDER BY claim_diff DESC;\n",
        "\n",
        "10. SELECT PatientID, age, bmi,\n",
        "    GREATEST(LEAD(bmi, 1) OVER (ORDER BY age),\n",
        "            LEAD(bmi, 2) OVER (ORDER BY age),\n",
        "            LEAD(bmi, 3) OVER (ORDER BY age)) AS max_bmi_next_3\n",
        "    FROM campus.insurance;\n",
        "\n",
        "11. SELECT PatientID, claim,\n",
        "    AVG(claim) OVER (PARTITION BY PatientID ORDER BY claim ROWS BETWEEN 1 PRECEDING AND CURRENT ROW) AS rolling_avg_last_2_claims\n",
        "    FROM campus.insurance;\n",
        "\n",
        "12. SELECT region, gender, age, claim,\n",
        "    FIRST_VALUE(claim) OVER (PARTITION BY region, gender ORDER BY age) AS first_claimed_insurance\n",
        "    FROM campus.insurance\n",
        "    WHERE diabetic = 'no' AND bmi BETWEEN 25 AND 30\n",
        "    ORDER BY region, gender, age;"
      ]
    },
    {
      "cell_type": "markdown",
      "source": [
        "**Note: Try to avoid *GROUP BY* clause to solve the problems**\n",
        "\n",
        "For the problems use the *Health Insurance Claim* dataset. You can get the details as well as the dataset from [here](https://www.kaggle.com/datasets/thedevastator/insurance-claim-analysis-demographic-and-health).\n",
        "\n",
        "### **Problem 1:** What are the top 5 patients who claimed the highest insurance amounts?\n",
        "\n",
        "### **Problem 2:** What is the average insurance claimed by patients based on the number of children they have?\n",
        "\n",
        "### **Problem 3:** What is the highest and lowest claimed amount by patients in each region?\n",
        "\n",
        "### **Problem 4:** What is the percentage of smokers in each age group?\n",
        "\n",
        "### **Problem 5:** What is the difference between the claimed amount of each patient and the first claimed amount of that patient?\n",
        "\n",
        "### **Problem 6:** For each patient, calculate the difference between their claimed amount and the average claimed amount of patients with the same number of children.\n",
        "\n",
        "### **Problem 7:** Show the patient with the highest BMI in each region and their respective rank.\n",
        "\n",
        "### **Problem 8:** Calculate the difference between the claimed amount of each patient and the claimed amount of the patient who has the highest BMI in their region.\n",
        "\n",
        "### **Problem 9:** For each patient, calculate the difference in claim amount between the patient and the patient with the highest claim amount among patients with the same bmi and smoker status, within the same region. Return the result in descending order difference.\n",
        "\n",
        "### **Problem 10:** For each patient, find the maximum BMI value among their next three records (ordered by age).\n",
        "\n",
        "### **Problem 11:** For each patient, find the rolling average of the last 2 claims.\n",
        "\n",
        "### **Problem 12:** Find the first claimed insurance value for male and female patients, within each region order the data by patient age in ascending order, and only include patients who are non-diabetic and have a bmi value between 25 and 30."
      ],
      "metadata": {
        "id": "rp-6tPAYGMYz"
      }
    },
    {
      "cell_type": "code",
      "source": [],
      "metadata": {
        "id": "F3smsFiqGvnw"
      },
      "execution_count": null,
      "outputs": []
    }
  ]
}