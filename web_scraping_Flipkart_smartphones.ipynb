{
 "cells": [
  {
   "cell_type": "code",
   "execution_count": null,
   "metadata": {
    "vscode": {
     "languageId": "plaintext"
    }
   },
   "outputs": [],
   "source": [
    "from selenium import webdriver\n",
    "from selenium.webdriver.chrome.service import Service\n",
    "from webdriver_manager.chrome import ChromeDriverManager\n",
    "from selenium.webdriver.common.by import By\n",
    "import json\n",
    "import time\n",
    "\n",
    "# Function to extract phone details from a single page\n",
    "def extract_phone_details(driver):\n",
    "    phones = []\n",
    "\n",
    "    # Find all product containers\n",
    "    product_elements = driver.find_elements(By.XPATH, '//div[contains(@class, \"tUxRFH\")]')\n",
    "\n",
    "    for product in product_elements:\n",
    "        try:\n",
    "            # Extract details\n",
    "            img = product.find_element(By.TAG_NAME, 'img')\n",
    "            image_url = img.get_attribute('src')\n",
    "\n",
    "            # Use a different approach to extract the name\n",
    "            name = product.find_element(By.XPATH, './/div[contains(@class, \"KzDlHZ\")]').text  # Adjust based on the actual class\n",
    "\n",
    "            # Extract ratings and reviews\n",
    "            ratings_reviews_element = product.find_element(By.XPATH, './/span[contains(@class, \"Wphh3N\")]')\n",
    "            total_ratings = ratings_reviews_element.find_element(By.XPATH, './/span[1]').text.split()[0]  # Get the first span for ratings\n",
    "            total_reviews = ratings_reviews_element.find_element(By.XPATH, './/span[3]').text.split()[0]  # Get the third span for reviews\n",
    "            average_ratings = product.find_element(By.CLASS_NAME, 'XQDdHH').text\n",
    "\n",
    "            # Extract prices\n",
    "            discounted_price = product.find_element(By.XPATH, './/div[contains(@class, \"Nx9bqj\") and contains(@class, \"_4b5DiR\")]').text\n",
    "            # actual_price = product.find_element(By.XPATH, './/div[contains(@class, \"yRaY8j\") and contains(@class, \"ZYYwLA\")]').text\n",
    "\n",
    "\n",
    "            # Create a dictionary for the phone\n",
    "            phone = {\n",
    "                'image_url': image_url,\n",
    "                'name': name,\n",
    "                'average_ratings': average_ratings,\n",
    "                'total_ratings': total_ratings,\n",
    "                'total_reviews': total_reviews,\n",
    "                'discounted_price': discounted_price,\n",
    "                # 'actual_price': actual_price\n",
    "            }\n",
    "\n",
    "            phones.append(phone)\n",
    "\n",
    "        except Exception as e:\n",
    "            print(f\"Error extracting details for a product: {e}\")\n",
    "            continue\n",
    "\n",
    "    return phones\n",
    "\n",
    "# Set up the Chrome WebDriver\n",
    "driver = webdriver.Chrome(service=Service(ChromeDriverManager().install()))\n",
    "\n",
    "# Initialize a list to store all phones\n",
    "all_phones = []\n",
    "\n",
    "# Base URL for Flipkart search results\n",
    "base_url = 'https://www.flipkart.com/search?q=smartphones'\n",
    "\n",
    "# Loop through the pagination\n",
    "for page in range(1, 42):  # Adjust the range as needed for more pages\n",
    "    # Navigate to the page\n",
    "    driver.get(f\"{base_url}&page={page}\")\n",
    "\n",
    "    # Allow some time for the page to load\n",
    "    time.sleep(3)  # Wait for the page to load completely\n",
    "\n",
    "    # Extract phone details from the current page\n",
    "    phones_on_page = extract_phone_details(driver)\n",
    "    all_phones.extend(phones_on_page)  # Add the current page's phones to the list\n",
    "\n",
    "# Save the data to a JSON file\n",
    "with open('flipkart_phones_without_actual_price.json', 'w') as json_file:\n",
    "    json.dump(all_phones, json_file, indent=4)\n",
    "\n",
    "# Close the browser\n",
    "driver.quit()\n",
    "\n",
    "print(f\"Extracted data for {len(all_phones)} phones and saved to 'flipkart_phones.json'.\")\n"
   ]
  },
  {
   "cell_type": "code",
   "execution_count": null,
   "metadata": {
    "vscode": {
     "languageId": "plaintext"
    }
   },
   "outputs": [],
   "source": [
    "import pandas as pd\n",
    "phones = pd.read_json('flipkart_phones_without_actual_price.json')\n",
    "phones.head()"
   ]
  },
  {
   "cell_type": "code",
   "execution_count": null,
   "metadata": {
    "vscode": {
     "languageId": "plaintext"
    }
   },
   "outputs": [],
   "source": [
    "\n",
    "phones.info()"
   ]
  },
  {
   "cell_type": "code",
   "execution_count": null,
   "metadata": {
    "vscode": {
     "languageId": "plaintext"
    }
   },
   "outputs": [],
   "source": [
    "phones['average_ratings'].sort_values(ascending=False)"
   ]
  },
  {
   "cell_type": "code",
   "execution_count": null,
   "metadata": {
    "vscode": {
     "languageId": "plaintext"
    }
   },
   "outputs": [],
   "source": [
    "phones[phones['average_ratings'] == 4.7][['name', 'discounted_price', ]]"
   ]
  }
 ],
 "metadata": {
  "language_info": {
   "name": "python"
  }
 },
 "nbformat": 4,
 "nbformat_minor": 2
}
