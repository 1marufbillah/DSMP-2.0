{
  "nbformat": 4,
  "nbformat_minor": 0,
  "metadata": {
    "colab": {
      "provenance": [],
      "collapsed_sections": [
        "BCleRtX43caS",
        "KBbGNTtQ47mJ",
        "ExIxsv4y-oEd",
        "OcQhJvXVALgp",
        "sEsGEqOHCSWG",
        "v1M5Yh9ZZO0z"
      ]
    },
    "kernelspec": {
      "name": "python3",
      "display_name": "Python 3"
    },
    "language_info": {
      "name": "python"
    }
  },
  "cells": [
    {
      "cell_type": "markdown",
      "source": [
        "### `Problem-1:` Class inheritence\n",
        "\n",
        "Create a **Bus** child class that inherits from the Vehicle class. The default fare charge of any vehicle is seating capacity * 100. If Vehicle is Bus instance, we need to add an extra 10% on full fare as a maintenance charge. So total fare for bus instance will become the final amount = total fare + 10% of the total fare.\n",
        "\n",
        "Note: The bus seating capacity is 50. so the final fare amount should be 5500. You need to override the fare() method of a Vehicle class in Bus class."
      ],
      "metadata": {
        "id": "BCleRtX43caS"
      }
    },
    {
      "cell_type": "code",
      "execution_count": 2,
      "metadata": {
        "colab": {
          "base_uri": "https://localhost:8080/"
        },
        "id": "6jVFCXKz3YZI",
        "outputId": "fccb1435-4610-4e31-e448-bce48bb10619"
      },
      "outputs": [
        {
          "output_type": "stream",
          "name": "stdout",
          "text": [
            "5500.0\n"
          ]
        }
      ],
      "source": [
        "class Vehicle:\n",
        "    def __init__(self, seat_capacity):\n",
        "        self.seat_capacity = seat_capacity\n",
        "\n",
        "    def fare(self):\n",
        "        return self.seat_capacity * 100\n",
        "\n",
        "class Bus(Vehicle):\n",
        "    def __init__(self, seat_capacity):\n",
        "        super().__init__(seat_capacity)\n",
        "\n",
        "    def fare(self):\n",
        "        return super().fare() + 0.1 * super().fare()\n",
        "\n",
        "\n",
        "bus = Bus(50)\n",
        "print(bus.fare())"
      ]
    },
    {
      "cell_type": "markdown",
      "source": [
        "### `Problem-2:` Class Inheritence\n",
        "\n",
        "Create a Bus class that inherits from the Vehicle class. Give the capacity argument of *Bus.seating_capacity()* a default value of 50.\n",
        "\n",
        "Use the following code for your parent Vehicle class."
      ],
      "metadata": {
        "id": "KBbGNTtQ47mJ"
      }
    },
    {
      "cell_type": "code",
      "source": [
        "class Vehicle:\n",
        "    def __init__(self, seating_capacity):\n",
        "        self._seating_capacity = seating_capacity  # Use _ to indicate attribute\n",
        "\n",
        "    def get_seating_capacity(self):\n",
        "        return self._seating_capacity\n",
        "\n",
        "class Bus(Vehicle):\n",
        "    def __init__(self, seating_capacity=50):\n",
        "        super().__init__(seating_capacity)\n",
        "\n",
        "bus = Bus()\n",
        "print(bus.get_seating_capacity())"
      ],
      "metadata": {
        "id": "MwOnYE_14M-r",
        "colab": {
          "base_uri": "https://localhost:8080/"
        },
        "outputId": "7972bacc-03e1-466e-ba6b-5d35155103ab"
      },
      "execution_count": 6,
      "outputs": [
        {
          "output_type": "stream",
          "name": "stdout",
          "text": [
            "50\n"
          ]
        }
      ]
    },
    {
      "cell_type": "markdown",
      "source": [
        "### `Problem-3:` Write a program that has a class Point. Define another class Location which has two objects (Location & Destination) of class Point. Also define a function in Location that prints the reflection of Destination on the x axis."
      ],
      "metadata": {
        "id": "ExIxsv4y-oEd"
      }
    },
    {
      "cell_type": "code",
      "source": [
        "class Point:\n",
        "    def __init__(self, x, y):\n",
        "        self.x = x\n",
        "        self.y = y\n",
        "\n",
        "    def __repr__(self):\n",
        "        return f\"({self.x}, {self.y})\"\n",
        "\n",
        "class Location:\n",
        "    def __init__(self, location, destination):\n",
        "        self.Location = location\n",
        "        self.Destination = destination\n",
        "\n",
        "    def reflect_on_x_axis(self):\n",
        "        reflected_x = self.Destination.x\n",
        "        reflected_y = -self.Destination.y\n",
        "        return Point(reflected_x, reflected_y)\n",
        "\n",
        "    def print_reflection(self):\n",
        "        reflection = self.reflect_on_x_axis()\n",
        "        print(f\"Reflection of Destination on the x-axis: {reflection}\")\n",
        "\n",
        "location_point = Point(3, 4)\n",
        "destination_point = Point(5, 7)\n",
        "loc = Location(location_point, destination_point)\n",
        "\n",
        "loc.print_reflection()\n"
      ],
      "metadata": {
        "id": "yT2QtzQp5VAB",
        "colab": {
          "base_uri": "https://localhost:8080/"
        },
        "outputId": "af2334a9-35c6-468b-8948-e734ee1790f1"
      },
      "execution_count": 8,
      "outputs": [
        {
          "output_type": "stream",
          "name": "stdout",
          "text": [
            "Reflection of Destination on the x-axis: (5, -7)\n"
          ]
        }
      ]
    },
    {
      "cell_type": "markdown",
      "source": [
        "### `Problem-4:` Write a program that has an abstract class Polygon. Derive two classes Rectangle and Triamgle from Polygon and write methods to get the details of their dimensions and hence calculate the area."
      ],
      "metadata": {
        "id": "OcQhJvXVALgp"
      }
    },
    {
      "cell_type": "code",
      "source": [
        "from abc import ABC, abstractmethod\n",
        "\n",
        "class Polygon(ABC):\n",
        "\n",
        "    @abstractmethod\n",
        "    def get_dimensions(self):\n",
        "        pass\n",
        "\n",
        "    @abstractmethod\n",
        "    def area(self):\n",
        "        pass\n",
        "\n",
        "class Rectangle(Polygon):\n",
        "    def __init__(self, length, width):\n",
        "        self.length = length\n",
        "        self.width = width\n",
        "\n",
        "    def get_dimensions(self):\n",
        "        return self.length, self.width\n",
        "\n",
        "    def area(self):\n",
        "        return self.length * self.width\n",
        "\n",
        "class Triangle(Polygon):\n",
        "    def __init__(self, base, height):\n",
        "        self.base = base\n",
        "        self.height = height\n",
        "\n",
        "    def get_dimensions(self):\n",
        "        return self.base, self.height\n",
        "\n",
        "    def area(self):\n",
        "        return 0.5 * self.base * self.height\n",
        "\n",
        "\n",
        "rect = Rectangle(10, 5)\n",
        "tri = Triangle(8, 4)\n",
        "\n",
        "print(\"Rectangle Dimensions:\", rect.get_dimensions())\n",
        "print(\"Rectangle Area:\", rect.area())\n",
        "\n",
        "print(\"Triangle Dimensions:\", tri.get_dimensions())\n",
        "print(\"Triangle Area:\", tri.area())"
      ],
      "metadata": {
        "id": "9IMrtdUH__eA",
        "colab": {
          "base_uri": "https://localhost:8080/"
        },
        "outputId": "b9cd9cdb-89bb-4a28-8f93-846b81bb2b0a"
      },
      "execution_count": 12,
      "outputs": [
        {
          "output_type": "stream",
          "name": "stdout",
          "text": [
            "Rectangle Dimensions: (10, 5)\n",
            "Rectangle Area: 50\n",
            "Triangle Dimensions: (8, 4)\n",
            "Triangle Area: 16.0\n"
          ]
        }
      ]
    },
    {
      "cell_type": "markdown",
      "source": [
        "### `Problem-5:` Write a program with class Bill. The users have the option to pay the bill either by cheque or by cash. Use the inheritance to model this situation."
      ],
      "metadata": {
        "id": "sEsGEqOHCSWG"
      }
    },
    {
      "cell_type": "code",
      "source": [
        "class Bill:\n",
        "    def __init__(self, amount):\n",
        "        self.amount = amount\n",
        "\n",
        "    def display(self):\n",
        "        print(f\"Bill Amount: ${self.amount}\")\n",
        "\n",
        "\n",
        "class ChequeBill(Bill):\n",
        "    def __init__(self, amount, cheque_number):\n",
        "        super().__init__(amount)\n",
        "        self.cheque_number = cheque_number\n",
        "\n",
        "    def pay(self):\n",
        "        print(f\"Paying ${self.amount} by cheque.\")\n",
        "        print(f\"Cheque Number: {self.cheque_number}\")\n",
        "\n",
        "\n",
        "class CashBill(Bill):\n",
        "    def pay(self):\n",
        "        print(f\"Paying ${self.amount} in cash.\")\n",
        "\n",
        "\n",
        "amount = 1000\n",
        "cheque_payment = ChequeBill(amount, '45676u78')\n",
        "cheque_payment.display()\n",
        "cheque_payment.pay()\n",
        "\n",
        "print()\n",
        "\n",
        "cash_payment = CashBill(amount)\n",
        "cash_payment.display()\n",
        "cash_payment.pay()"
      ],
      "metadata": {
        "id": "l0WFyP2PB3nf",
        "colab": {
          "base_uri": "https://localhost:8080/"
        },
        "outputId": "7d678c97-7aa3-4889-8a72-3b505124ecec"
      },
      "execution_count": 13,
      "outputs": [
        {
          "output_type": "stream",
          "name": "stdout",
          "text": [
            "Bill Amount: $1000\n",
            "Paying $1000 by cheque.\n",
            "Cheque Number: 45676u78\n",
            "\n",
            "Bill Amount: $1000\n",
            "Paying $1000 in cash.\n"
          ]
        }
      ]
    },
    {
      "cell_type": "markdown",
      "source": [
        "###`Q-6:` FlexibleDict\n",
        "As of now we are accessing values from dictionary with exact keys. Now we want to amend accessing values functionality. if a dict have key `1` (int) the even if we try to access values by giving `'1'` (1 as str) as key, we should get the same result and vice versa.\n",
        "\n",
        "Write a class `FlexibleDict` upon builtin `dict` class with above required functionality.\n",
        "\n",
        "Hint- `dict[key] => dict.__getitem__(key)`"
      ],
      "metadata": {
        "id": "v1M5Yh9ZZO0z"
      }
    },
    {
      "cell_type": "markdown",
      "source": [
        "Ex.\n",
        "```\n",
        "fd = FlexibleDict()\n",
        "fd['a'] = 100\n",
        "print(fd['a']) # Like regular dict\n",
        "\n",
        "fd[5] = 500\n",
        "print(fd[5]) # Like regular dict\n",
        "\n",
        "fd[1] = 100\n",
        "print(fd['1']) # actual Key is int but still trying to access through str key.\n",
        "fd['1'] = 100\n",
        "print(fd[1])\n",
        "\n",
        "```\n",
        "`Output:`\n",
        "```\n",
        "100\n",
        "500\n",
        "100\n",
        "100\n",
        "\n",
        "```"
      ],
      "metadata": {
        "id": "uajGeWegbfda"
      }
    },
    {
      "cell_type": "code",
      "source": [
        "class FlexibleDict(dict):\n",
        "    def __getitem__(self, key):\n",
        "        # Try to access with the original key\n",
        "        try:\n",
        "            return super().__getitem__(key)\n",
        "        except KeyError:\n",
        "            # If KeyError, try accessing with the alternative type (int if str, str if int)\n",
        "            if isinstance(key, int):\n",
        "                alt_key = str(key)\n",
        "            elif isinstance(key, str) and key.isdigit():\n",
        "                alt_key = int(key)\n",
        "            else:\n",
        "                raise\n",
        "\n",
        "            # Try to access with the alternative key\n",
        "            try:\n",
        "                return super().__getitem__(alt_key)\n",
        "            except KeyError:\n",
        "                # If still not found, raise KeyError\n",
        "                raise KeyError(f\"Key {key} not found as either int or str\")\n",
        "\n",
        "# Example Usage\n",
        "flex_dict = FlexibleDict({1: 'one', '2': 'two', 3: 'three'})\n",
        "\n",
        "# Accessing with integer key\n",
        "print(flex_dict[1])     # Output: one\n",
        "\n",
        "# Accessing with string key\n",
        "print(flex_dict['2'])   # Output: two\n",
        "\n",
        "# Accessing with alternative type\n",
        "print(flex_dict['1'])   # Output: one\n",
        "print(flex_dict[2])     # Output: two\n",
        "\n",
        "# Accessing non-existent key\n",
        "try:\n",
        "    print(flex_dict[4])  # Should raise KeyError\n",
        "except KeyError as e:\n",
        "    print(e)             # Output: Key 4 not found as either int or str"
      ],
      "metadata": {
        "id": "OHLbOtCxZ2nw",
        "colab": {
          "base_uri": "https://localhost:8080/"
        },
        "outputId": "5219cf20-5965-44f4-d54c-bd1cdf02b4fa"
      },
      "execution_count": 14,
      "outputs": [
        {
          "output_type": "stream",
          "name": "stdout",
          "text": [
            "one\n",
            "two\n",
            "one\n",
            "two\n",
            "'Key 4 not found as either int or str'\n"
          ]
        }
      ]
    }
  ]
}