{
  "nbformat": 4,
  "nbformat_minor": 0,
  "metadata": {
    "colab": {
      "provenance": []
    },
    "kernelspec": {
      "name": "python3",
      "display_name": "Python 3"
    },
    "language_info": {
      "name": "python"
    }
  },
  "cells": [
    {
      "cell_type": "code",
      "execution_count": null,
      "metadata": {
        "id": "s-W3ohs8p3Oz"
      },
      "outputs": [],
      "source": []
    },
    {
      "cell_type": "markdown",
      "source": [
        "## Problem 1-4 : NorthWinddatset https://relational.fit.cvut.cz/dataset/Northwind\n",
        "\n",
        "How to download the dataset\n",
        "\n",
        "To download the dataset you need to create connection in your mysql workbench\n",
        "\n",
        "The datasets are publicly available directly from MariaDB database.\n",
        "\n",
        "* Open your favourite MariaDB client (MySQL Workbench)\n",
        "Use following credentials:\n",
        "```\n",
        "    hostname: relational.fit.cvut.cz\n",
        "    port: 3306\n",
        "    username: guest\n",
        "    password: relational\n",
        "```\n",
        "Drive link: https://drive.google.com/drive/folders/1FMi6g1KDHbn17ikJSi7bE9-THywlxhdu?usp=sharing"
      ],
      "metadata": {
        "id": "KpqcB6Vhp9qf"
      }
    },
    {
      "cell_type": "markdown",
      "source": [
        "###`Q-1`: Rank Employee in terms of revenue generation. Show employee id, first name, revenue, and rank\n",
        "\n",
        "\n",
        "###`Q-2`: Show All products cumulative sum of units sold each month.\n",
        "\n",
        "\n",
        "###`Q-3`: Show Percentage of total revenue by each suppliers\n",
        "\n",
        "\n",
        "\n",
        "###`Q-4:` Show Percentage of total orders by each suppliers\n",
        "\n",
        "\n",
        "\n",
        "### `Q-5`:Show All Products Year Wise report of totalQuantity sold, percentage change from last year.\n",
        "\n",
        "\n",
        "\n"
      ],
      "metadata": {
        "id": "FOEHlsgeqAGT"
      }
    },
    {
      "cell_type": "code",
      "source": [
        "1.  SELECT e.EmployeeID, e.FirstName,\n",
        "        SUM(od.UnitPrice * od.Quantity * (1 - od.Discount)) AS revenue,\n",
        "        RANK() OVER(ORDER BY SUM(od.UnitPrice * od.Quantity * (1 - od.Discount)) DESC) AS revenue_rank\n",
        "    FROM employees e\n",
        "        JOIN orders o ON e.EmployeeID = o.EmployeeID\n",
        "        JOIN order_details od ON od.OrderID = o.OrderID\n",
        "    GROUP BY e.EmployeeID, e.FirstName\n",
        "    ORDER BY revenue DESC;\n",
        "\n",
        "2.  SELECT p.ProductName, YEAR(o.OrderDate) AS order_year,\n",
        "\t\t-- MONTH(o.OrderDate) AS order_month,\n",
        "        MONTHNAME(o.OrderDate) AS order_month,\n",
        "        SUM(od.Quantity) AS unit_sold,\n",
        "        SUM(SUM(od.Quantity)) OVER(PARTITION BY p.ProductName ORDER BY\n",
        "        YEAR(o.OrderDate), MONTH(o.OrderDate)) AS cumulative_unit_sold\n",
        "    FROM products p\n",
        "        JOIN order_details od ON p.ProductID = od.ProductID\n",
        "        JOIN orders o ON o.OrderID = od.OrderID\n",
        "    GROUP BY p.ProductName, YEAR(o.OrderDate), MONTH(o.OrderDate), MONTHNAME(o.OrderDate)\n",
        "    ORDER BY p.ProductName;\n",
        "\n",
        "3.  SELECT s.CompanyName AS supplier_name,\n",
        "        SUM(od.UnitPrice * od.Quantity * (1 - od.Discount)) AS total_revenue,\n",
        "        (SUM(od.UnitPrice * od.Quantity * (1 - od.Discount)) /\n",
        "    (SELECT SUM(UnitPrice * Quantity * (1 - Discount)) FROM order_details)) * 100 AS percentage_of_total_revenue\n",
        "    FROM suppliers s\n",
        "        JOIN products p ON p.SupplierID = s.SupplierID\n",
        "        JOIN order_details od ON od.ProductID = p.ProductID\n",
        "    GROUP BY s.CompanyName\n",
        "    ORDER BY percentage_of_total_revenue DESC;\n",
        "\n",
        "4.  SELECT s.CompanyName AS supplier_name,\n",
        "        COUNT(DISTINCT o.OrderID) AS total_orders,\n",
        "        (COUNT(DISTINCT o.OrderID) / (SELECT COUNT(*) FROM orders)) * 100 AS percentage_of_total_orders\n",
        "    FROM suppliers s\n",
        "        JOIN products p ON p.SupplierID = s.SupplierID\n",
        "        JOIN order_details od ON od.ProductID = p.ProductID\n",
        "        JOIN orders o ON o.OrderID = od.OrderID\n",
        "    GROUP BY s.CompanyName\n",
        "    ORDER BY percentage_of_total_orders DESC;\n",
        "\n",
        "5.  SELECT p.ProductName,\n",
        "        YEAR(o.OrderDate) AS order_year,\n",
        "        SUM(od.Quantity) AS total_quantity,\n",
        "        LAG(SUM(od.Quantity), 1, 0) OVER(PARTITION BY p.ProductName ORDER BY YEAR(o.OrderDate)) AS prev_year_quantity,\n",
        "        ((SUM(od.Quantity) - LAG(SUM(od.Quantity), 1, 0) OVER(PARTITION BY p.ProductName ORDER BY YEAR(o.OrderDate))) /\n",
        "        LAG(SUM(od.Quantity), 1, 0) OVER (PARTITION BY p.ProductName ORDER BY YEAR(o.OrderDate))) * 100 AS percentage_change\n",
        "    FROM products p\n",
        "        JOIN order_details od ON od.ProductID = p.ProductID\n",
        "        JOIN orders o ON o.OrderID = od.OrderID\n",
        "    GROUP BY p.ProductName, YEAR(o.OrderDate)\n",
        "    ORDER BY p.ProductName, order_year;"
      ],
      "metadata": {
        "id": "HpH1dxyQHwL0"
      },
      "execution_count": null,
      "outputs": []
    },
    {
      "cell_type": "markdown",
      "source": [
        "## Problem 6 - 15\n",
        "\n",
        "For the next problems, you can get the dataset as well as the details [here](https://www.kaggle.com/datasets/thedevastator/drug-performance-evaluation?select=Drug_clean.csv) (Use the *cleaned* csv file)."
      ],
      "metadata": {
        "id": "nWELr3W3qN9Q"
      }
    },
    {
      "cell_type": "markdown",
      "source": [
        "### **`Problem-6:`** For each condition, what is the average satisfaction level of drugs that are \"On Label\" vs \"Off Label\"?\n",
        "\n",
        "\n",
        "### **`Problem-7:`** For each drug type (RX, OTC, RX/OTC), what is the average ease of use and satisfaction level of drugs with a price above the median for their type?\n",
        "\n",
        "\n",
        "### **`Problem 8:`** What is the cumulative distribution of EaseOfUse ratings for each drug type (RX, OTC, RX/OTC)? Show the results in descending order by drug type and cumulative distribution. (Use the built-in method and the manual method by calculating on your own. For the manual method, use the \"ROWS BETWEEN UNBOUNDED PRECEDING AND CURRENT ROW\" and see if you get the same results as the built-in method.)\n",
        "\n",
        "\n",
        "### **`Problem 9:`** What is the median satisfaction level for each medical condition? Show the results in descending order by median satisfaction level. (Don't repeat the same rows of your result.)\n",
        "\n",
        "\n",
        "\n",
        "### **`Problem 10:`** What is the running average of the price of drugs for each medical condition? Show the results in ascending order by medical condition and drug name.\n",
        "\n",
        "\n",
        "\n",
        "### **`Problem 11:`** What is the percentage change in the number of reviews for each drug between the previous row and the current row? Show the results in descending order by percentage change.\n",
        "\n",
        "\n",
        "\n",
        "### **`Problem 12:`** What is the percentage of total satisfaction level for each drug type (RX, OTC, RX/OTC)? Show the results in descending order by drug type and percentage of total satisfaction.\n",
        "\n",
        "\n",
        "\n",
        "### **`Problem 13:`** What is the cumulative sum of effective ratings for each medical condition and drug form combination? Show the results in ascending order by medical condition, drug form and the name of the drug.\n",
        "\n",
        "\n",
        "\n",
        "### **`Problem-14:`** What is the rank of the average ease of use for each drug type (RX, OTC, RX/OTC)? Show the results in descending order by rank and drug type.\n",
        "\n",
        "\n",
        "\n",
        "### **`Problem-15:`** For each condition, what is the average effectiveness of the top 3 most reviewed drugs?"
      ],
      "metadata": {
        "id": "wtiSQiILqQtd"
      }
    },
    {
      "cell_type": "code",
      "source": [
        "6.  SELECT `Condition`, Indication, AVG(Satisfaction) AS avg_satisfaction\n",
        "    FROM drug\n",
        "    WHERE Indication IN('On Label', 'Off Label')\n",
        "    GROUP BY `Condition`, Indication\n",
        "    ORDER BY `Condition`, Indication;\n",
        "\n",
        "7.\n",
        "\n",
        "8.  SELECT Type,EaseOfUse, CUME_DIST() OVER (PARTITION BY Type ORDER BY EaseOfUse DESC) AS CumulativeDistribution\n",
        "    FROM drug\n",
        "    ORDER BY Type DESC, CumulativeDistribution DESC;\n",
        "\n",
        "    -- Manual Method:\n",
        "    SELECT Type, EaseOfUse,\n",
        "        SUM(1) OVER (PARTITION BY Type ORDER BY EaseOfUse DESC ROWS BETWEEN UNBOUNDED PRECEDING AND CURRENT ROW) /\n",
        "        COUNT(*) OVER (PARTITION BY Type) AS CumulativeDistribution\n",
        "    FROM drug\n",
        "    ORDER BY Type DESC, CumulativeDistribution DESC;\n",
        "\n",
        "9.  SELECT DISTINCT `Condition`, AVG(Satisfaction) AS median_satisfaction\n",
        "    FROM (\n",
        "    SELECT `Condition`, Satisfaction,\n",
        "        @cur_rank := IF(@prev_condition = `Condition`, @cur_rank + 1, 1) AS `rank`,\n",
        "        @prev_condition := `Condition`\n",
        "    FROM\n",
        "        drug, (SELECT @cur_rank := 0, @prev_condition := NULL) r\n",
        "    ORDER BY `Condition`, Satisfaction\n",
        "    ) AS subquery\n",
        "    WHERE `rank` = (SELECT FLOOR((COUNT(*) + 1) / 2) FROM drug WHERE `Condition` = subquery.`Condition`)\n",
        "    GROUP BY `Condition`\n",
        "    ORDER BY median_satisfaction DESC;\n",
        "\n",
        "10. SELECT `Condition`,Drug, Price,\n",
        "        AVG(Price) OVER (PARTITION BY `Condition` ORDER BY Drug ROWS BETWEEN UNBOUNDED PRECEDING AND CURRENT ROW) AS RunningAverage\n",
        "    FROM drug\n",
        "    ORDER BY `Condition` ASC, Drug ASC;\n",
        "\n",
        "11. SELECT Drug, Reviews,\n",
        "        COALESCE(LAG(Reviews) OVER (PARTITION BY Drug ORDER BY Reviews), 0) AS PreviousReviews,\n",
        "    CASE\n",
        "        WHEN COALESCE(LAG(Reviews) OVER (PARTITION BY Drug ORDER BY Reviews), 0) = 0 THEN 0\n",
        "        ELSE ((Reviews - COALESCE(LAG(Reviews) OVER (PARTITION BY Drug ORDER BY Reviews), 0)) / COALESCE(LAG(Reviews) OVER (PARTITION BY Drug ORDER BY Reviews), 0)) * 100\n",
        "    END AS PercentageChange\n",
        "    FROM drug\n",
        "    ORDER BY PercentageChange DESC;\n",
        "\n",
        "12. SELECT  Type, SUM(Satisfaction) AS TotalSatisfaction,\n",
        "        (SUM(Satisfaction) / SUM(SUM(Satisfaction)) OVER ()) * 100 AS PercentageOfTotalSatisfaction\n",
        "    FROM drug\n",
        "    GROUP BY Type\n",
        "    ORDER BY Type DESC, PercentageOfTotalSatisfaction DESC;\n",
        "\n",
        "13. SELECT `Condition`, Form, Drug, Effective,\n",
        "        SUM(Effective) OVER (PARTITION BY `Condition`, Form ORDER BY Drug) AS CumulativeSum\n",
        "    FROM drug\n",
        "    ORDER BY `Condition` ASC, Form ASC, Drug ASC;\n",
        "\n",
        "14. SELECT Type,AVG(EaseOfUse) AS AverageEaseOfUse,\n",
        "    DENSE_RANK() OVER (ORDER BY AVG(EaseOfUse) DESC) AS `rank`\n",
        "    FROM\n",
        "    drug\n",
        "    GROUP BY Type\n",
        "    ORDER BY `rank` ASC, Type DESC;\n",
        "\n",
        "15. SELECT `Condition`, AVG(Effective) AS AverageEffectiveness\n",
        "    FROM (\n",
        "    SELECT `Condition`, Drug, Effective, Reviews,\n",
        "        DENSE_RANK() OVER (PARTITION BY `Condition` ORDER BY Reviews DESC) AS `rank`\n",
        "    FROM drug\n",
        "    ) AS subquery\n",
        "    WHERE `rank` <= 3\n",
        "    GROUP BY `Condition`\n",
        "    ORDER BY `Condition` ASC;"
      ],
      "metadata": {
        "id": "AZH1zzayp_Tv"
      },
      "execution_count": null,
      "outputs": []
    },
    {
      "cell_type": "code",
      "source": [],
      "metadata": {
        "id": "a6TGQEgxrm3y"
      },
      "execution_count": null,
      "outputs": []
    }
  ]
}